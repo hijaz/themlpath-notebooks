{
 "cells": [
  {
   "cell_type": "markdown",
   "metadata": {},
   "source": [
    "<h3><a href=\"https://themlpath.com\">< The ML Path</a></h3>\n",
    "\n",
    "<h1>NumPy</h1>"
   ]
  },
  {
   "cell_type": "markdown",
   "metadata": {},
   "source": [
    "## Introduction to NumPy\n",
    "\n",
    "NumPy (Numerical Python) is a fundamental package for scientific computing in Python. It provides support for large, multi-dimensional arrays and matrices, along with a collection of mathematical functions to operate on these arrays.\n",
    "\n",
    "### Why NumPy is Needed\n",
    "\n",
    "- **Performance**: NumPy arrays are more efficient than Python lists because they require less memory and allow faster computation.\n",
    "- **Vectorization**: NumPy allows for vectorized operations, meaning operations that can be applied element-wise without looping. This makes code cleaner and faster.\n",
    "- **Convenience**: It provides many built-in functions for linear algebra, random number generation, and basic array operations, which makes it easier to work with data at scale.\n",
    "\n",
    "### Difference Between NumPy Arrays and Python Lists\n",
    "\n",
    "1. **Size**: NumPy arrays are more memory efficient than Python lists.\n",
    "2. **Speed**: Operations on NumPy arrays are faster due to optimized, compiled C code running behind the scenes.\n",
    "3. **Functionality**: NumPy arrays come with a wide variety of mathematical and statistical functions, while Python lists are limited in built-in functionality.\n",
    "\n",
    "Let’s explore these differences by example.\n"
   ]
  },
  {
   "cell_type": "code",
   "execution_count": 21,
   "metadata": {},
   "outputs": [
    {
     "name": "stdout",
     "output_type": "stream",
     "text": [
      "Requirement already satisfied: numpy in /home/hijaz/.pyenv/versions/3.12.4/envs/conceptual-pyenv-env/lib/python3.12/site-packages (2.1.1)\n",
      "\n",
      "\u001b[1m[\u001b[0m\u001b[34;49mnotice\u001b[0m\u001b[1;39;49m]\u001b[0m\u001b[39;49m A new release of pip is available: \u001b[0m\u001b[31;49m24.0\u001b[0m\u001b[39;49m -> \u001b[0m\u001b[32;49m24.2\u001b[0m\n",
      "\u001b[1m[\u001b[0m\u001b[34;49mnotice\u001b[0m\u001b[1;39;49m]\u001b[0m\u001b[39;49m To update, run: \u001b[0m\u001b[32;49mpip install --upgrade pip\u001b[0m\n"
     ]
    }
   ],
   "source": [
    "# Install numpy\n",
    "\n",
    "!pip install numpy"
   ]
  },
  {
   "cell_type": "markdown",
   "metadata": {},
   "source": [
    "## Comparing NumPy Arrays and Python Lists"
   ]
  },
  {
   "cell_type": "code",
   "execution_count": 22,
   "metadata": {},
   "outputs": [
    {
     "name": "stdout",
     "output_type": "stream",
     "text": [
      "Python list memory size: 8056 bytes\n",
      "\n",
      "NumPy array memory size: 8000 bytes\n",
      "\n"
     ]
    }
   ],
   "source": [
    "import numpy as np\n",
    "\n",
    "# Memory Efficiency\n",
    "import sys\n",
    "\n",
    "# Memory usage of Python list\n",
    "python_list = list(range(1000))\n",
    "print(\"Python list memory size:\", sys.getsizeof(python_list), \"bytes\")\n",
    "print()\n",
    "\n",
    "# Memory usage of NumPy array\n",
    "numpy_array = np.arange(1000)\n",
    "print(\"NumPy array memory size:\", numpy_array.nbytes, \"bytes\")\n",
    "print()"
   ]
  },
  {
   "cell_type": "code",
   "execution_count": 23,
   "metadata": {},
   "outputs": [
    {
     "name": "stdout",
     "output_type": "stream",
     "text": [
      "Python list sum time: 0.008683443069458008 seconds\n",
      "\n",
      "NumPy array sum time: 0.001028299331665039 seconds\n",
      "\n"
     ]
    }
   ],
   "source": [
    "# Speed Efficiency\n",
    "import time\n",
    "\n",
    "# Creating a large list and array\n",
    "size = 1000000\n",
    "python_list = list(range(size))\n",
    "numpy_array = np.arange(size)\n",
    "\n",
    "# Timing sum operation for Python list\n",
    "start = time.time()\n",
    "sum_list = sum(python_list)\n",
    "print(\"Python list sum time:\", time.time() - start, \"seconds\")\n",
    "print()\n",
    "\n",
    "# Timing sum operation for NumPy array\n",
    "start = time.time()\n",
    "sum_array = np.sum(numpy_array)\n",
    "print(\"NumPy array sum time:\", time.time() - start, \"seconds\")\n",
    "print()"
   ]
  },
  {
   "cell_type": "code",
   "execution_count": 24,
   "metadata": {},
   "outputs": [
    {
     "name": "stdout",
     "output_type": "stream",
     "text": [
      "1D Array: [1 2 3 4 5]\n",
      "\n",
      "2D Array:\n",
      " [[1 2 3]\n",
      " [4 5 6]]\n",
      "\n"
     ]
    }
   ],
   "source": [
    "# Creating Arrays\n",
    "# Creating a 1D array\n",
    "arr_1d = np.array([1, 2, 3, 4, 5])\n",
    "print(\"1D Array:\", arr_1d)\n",
    "print()\n",
    "\n",
    "# Creating a 2D array\n",
    "arr_2d = np.array([[1, 2, 3], [4, 5, 6]])\n",
    "print(\"2D Array:\\n\", arr_2d)\n",
    "print()"
   ]
  },
  {
   "cell_type": "markdown",
   "metadata": {},
   "source": [
    "## More Ways of Creating NumPy Arrays"
   ]
  },
  {
   "cell_type": "code",
   "execution_count": 25,
   "metadata": {},
   "outputs": [
    {
     "name": "stdout",
     "output_type": "stream",
     "text": [
      "Array using arange(): [0 2 4 6 8]\n",
      "\n",
      "Array using linspace(): [0.   0.25 0.5  0.75 1.  ]\n",
      "\n"
     ]
    }
   ],
   "source": [
    "# 1. Creating an array with a range of values using arange()\n",
    "arr_range = np.arange(0, 10, 2)  # Start at 0, go up to 10, step by 2\n",
    "print(\"Array using arange():\", arr_range)\n",
    "print()\n",
    "\n",
    "# 2. Creating an array with evenly spaced values using linspace()\n",
    "arr_linspace = np.linspace(0, 1, 5)  # 5 equally spaced values between 0 and 1\n",
    "print(\"Array using linspace():\", arr_linspace)\n",
    "print()"
   ]
  },
  {
   "cell_type": "code",
   "execution_count": 26,
   "metadata": {},
   "outputs": [
    {
     "name": "stdout",
     "output_type": "stream",
     "text": [
      "Array of zeros:\n",
      " [[0. 0. 0.]\n",
      " [0. 0. 0.]\n",
      " [0. 0. 0.]]\n",
      "\n",
      "Array of ones:\n",
      " [[1. 1. 1. 1.]\n",
      " [1. 1. 1. 1.]]\n",
      "\n",
      "Identity matrix:\n",
      " [[1. 0. 0. 0.]\n",
      " [0. 1. 0. 0.]\n",
      " [0. 0. 1. 0.]\n",
      " [0. 0. 0. 1.]]\n",
      "\n"
     ]
    }
   ],
   "source": [
    "# 3. Creating an array filled with zeros\n",
    "arr_zeros = np.zeros((3, 3))  # 3x3 array filled with zeros\n",
    "print(\"Array of zeros:\\n\", arr_zeros)\n",
    "print()\n",
    "\n",
    "# 4. Creating an array filled with ones\n",
    "arr_ones = np.ones((2, 4))  # 2x4 array filled with ones\n",
    "print(\"Array of ones:\\n\", arr_ones)\n",
    "print()\n",
    "\n",
    "# 5. Creating an identity matrix using eye()\n",
    "arr_eye = np.eye(4)  # 4x4 identity matrix\n",
    "print(\"Identity matrix:\\n\", arr_eye)\n",
    "print()"
   ]
  },
  {
   "cell_type": "code",
   "execution_count": 27,
   "metadata": {},
   "outputs": [
    {
     "name": "stdout",
     "output_type": "stream",
     "text": [
      "Random array:\n",
      " [[0.3108685  0.50410609]\n",
      " [0.47024816 0.94875341]\n",
      " [0.008756   0.52971357]]\n",
      "\n",
      "Random integer array:\n",
      " [[32 35 97]\n",
      " [ 2 84  5]\n",
      " [22 40  1]]\n",
      "\n",
      "Array of constant value:\n",
      " [[7 7]\n",
      " [7 7]]\n",
      "\n"
     ]
    }
   ],
   "source": [
    "# 6. Creating an array of random values between 0 and 1\n",
    "arr_random = np.random.rand(3, 2)  # 3x2 array of random floats between 0 and 1\n",
    "print(\"Random array:\\n\", arr_random)\n",
    "print()\n",
    "\n",
    "# 7. Creating an array of random integers\n",
    "arr_randint = np.random.randint(0, 100, (3, 3))  # 3x3 array of random integers between 0 and 100\n",
    "print(\"Random integer array:\\n\", arr_randint)\n",
    "print()\n",
    "\n",
    "# 8. Creating an array of a constant value\n",
    "arr_full = np.full((2, 2), 7)  # 2x2 array filled with the value 7\n",
    "print(\"Array of constant value:\\n\", arr_full)\n",
    "print()"
   ]
  },
  {
   "cell_type": "code",
   "execution_count": 28,
   "metadata": {},
   "outputs": [
    {
     "name": "stdout",
     "output_type": "stream",
     "text": [
      "Array using logspace(): [   1.   10.  100. 1000.]\n",
      "\n",
      "Uninitialized array (empty):\n",
      " [[4.79e-322 4.89e-322 3.21e-322]\n",
      " [2.27e-322 1.63e-322 3.71e-322]\n",
      " [2.96e-322 3.01e-322 4.00e-322]]\n",
      "\n"
     ]
    }
   ],
   "source": [
    "# 9. Creating an array of equally spaced values (logarithmic scale) using logspace()\n",
    "arr_logspace = np.logspace(0, 3, 4)  # 4 values between 10^0 and 10^3\n",
    "print(\"Array using logspace():\", arr_logspace)\n",
    "print()\n",
    "\n",
    "# 10. Creating an uninitialized array (for performance)\n",
    "arr_empty = np.empty((3, 3))  # 3x3 array with uninitialized values (whatever happens to be in memory)\n",
    "print(\"Uninitialized array (empty):\\n\", arr_empty)\n",
    "print()\n"
   ]
  },
  {
   "cell_type": "markdown",
   "metadata": {},
   "source": [
    "## Array Indexing and Slicing in NumPy"
   ]
  },
  {
   "cell_type": "code",
   "execution_count": 29,
   "metadata": {},
   "outputs": [
    {
     "name": "stdout",
     "output_type": "stream",
     "text": [
      "Original Array:\n",
      " [[1 2 3]\n",
      " [4 5 6]\n",
      " [7 8 9]]\n",
      "\n",
      "Basic Indexing Examples:\n",
      "Element at row 0, column 1: 2\n",
      "First row: [1 2 3]\n",
      "First column: [1 4 7]\n",
      "\n",
      "Slicing Examples:\n",
      "First two rows and columns:\n",
      " [[1 2]\n",
      " [4 5]]\n",
      "Last row: [7 8 9]\n",
      "Elements in the middle (2nd row, 2nd column): [[5]]\n",
      "\n"
     ]
    }
   ],
   "source": [
    "# Creating a sample array\n",
    "arr = np.array([[1, 2, 3], [4, 5, 6], [7, 8, 9]])\n",
    "print(\"Original Array:\\n\", arr)\n",
    "print()\n",
    "\n",
    "# 1. Basic Indexing\n",
    "print(\"Basic Indexing Examples:\")\n",
    "print(\"Element at row 0, column 1:\", arr[0, 1])  # Accessing an element\n",
    "print(\"First row:\", arr[0])  # Accessing the first row\n",
    "print(\"First column:\", arr[:, 0])  # Accessing the first column\n",
    "print()\n",
    "\n",
    "# 2. Slicing\n",
    "print(\"Slicing Examples:\")\n",
    "print(\"First two rows and columns:\\n\", arr[:2, :2])  # Accessing first 2 rows and 2 columns\n",
    "print(\"Last row:\", arr[-1, :])  # Accessing the last row\n",
    "print(\"Elements in the middle (2nd row, 2nd column):\", arr[1:2, 1:2])  # Slicing middle element\n",
    "print()\n",
    "\n"
   ]
  },
  {
   "cell_type": "code",
   "execution_count": 31,
   "metadata": {},
   "outputs": [
    {
     "name": "stdout",
     "output_type": "stream",
     "text": [
      "Boolean Indexing Example:\n",
      "Elements greater than 5:\n",
      " [100  10  20   6   7  30   9]\n",
      "\n",
      "Fancy Indexing Example:\n",
      "Selected elements (0,1) and (2,2): [10  9]\n",
      "Select rows using fancy indexing:\n",
      " [[100  10   3]\n",
      " [  7  30   9]]\n",
      "\n"
     ]
    }
   ],
   "source": [
    "# 3. Boolean Indexing\n",
    "print(\"Boolean Indexing Example:\")\n",
    "print(\"Elements greater than 5:\\n\", arr[arr > 5])  # Get all elements greater than 5\n",
    "print()\n",
    "\n",
    "# 4. Fancy Indexing (using arrays for indexing)\n",
    "print(\"Fancy Indexing Example:\")\n",
    "row_indices = [0, 2]  # Get rows 0 and 2\n",
    "col_indices = [1, 2]  # Get columns 1 and 2\n",
    "print(\"Selected elements (0,1) and (2,2):\", arr[row_indices, col_indices])  # Get specific elements\n",
    "print(\"Select rows using fancy indexing:\\n\", arr[[0, 2]])  # Select multiple rows\n",
    "print()\n"
   ]
  },
  {
   "cell_type": "code",
   "execution_count": 32,
   "metadata": {},
   "outputs": [
    {
     "name": "stdout",
     "output_type": "stream",
     "text": [
      "Modifying Elements:\n",
      "Modified Array:\n",
      " [[100  10   3]\n",
      " [  4  20   6]\n",
      " [  7  30   9]]\n",
      "Modified Array (2nd column):\n",
      " [[100  10   3]\n",
      " [  4  20   6]\n",
      " [  7  30   9]]\n",
      "\n",
      "Slicing with steps:\n",
      "Every other element from the first row: [100   3]\n",
      "Every other row:\n",
      " [[100  10   3]\n",
      " [  7  30   9]]\n",
      "\n"
     ]
    }
   ],
   "source": [
    "# 5. Modifying Elements with Indexing\n",
    "print(\"Modifying Elements:\")\n",
    "arr[0, 0] = 100  # Modify a single element\n",
    "print(\"Modified Array:\\n\", arr)\n",
    "arr[:, 1] = [10, 20, 30]  # Modify an entire column\n",
    "print(\"Modified Array (2nd column):\\n\", arr)\n",
    "print()\n",
    "\n",
    "# 6. Indexing with steps (strides)\n",
    "print(\"Slicing with steps:\")\n",
    "print(\"Every other element from the first row:\", arr[0, ::2])  # Access every second element in the first row\n",
    "print(\"Every other row:\\n\", arr[::2, :])  # Access every second row\n",
    "print()"
   ]
  },
  {
   "cell_type": "markdown",
   "metadata": {},
   "source": [
    "## NumPy Operations"
   ]
  },
  {
   "cell_type": "code",
   "execution_count": 44,
   "metadata": {},
   "outputs": [
    {
     "name": "stdout",
     "output_type": "stream",
     "text": [
      "Array 1: [1 2 3 4]\n",
      "Array 2: [5 6 7 8]\n",
      "Array 3:\n",
      " [[1 2]\n",
      " [3 4]]\n",
      "\n",
      "Arithmetic Operations:\n",
      "Addition: [ 6  8 10 12]\n",
      "Subtraction: [-4 -4 -4 -4]\n",
      "Multiplication: [ 5 12 21 32]\n",
      "Division: [0.2        0.33333333 0.42857143 0.5       ]\n",
      "\n"
     ]
    }
   ],
   "source": [
    "# Creating sample arrays\n",
    "arr1 = np.array([1, 2, 3, 4])\n",
    "arr2 = np.array([5, 6, 7, 8])\n",
    "arr3 = np.array([[1, 2], [3, 4]])\n",
    "\n",
    "print(\"Array 1:\", arr1)\n",
    "print(\"Array 2:\", arr2)\n",
    "print(\"Array 3:\\n\", arr3)\n",
    "print()\n",
    "\n",
    "# 1. Arithmetic Operations\n",
    "print(\"Arithmetic Operations:\")\n",
    "print(\"Addition:\", arr1 + arr2)\n",
    "print(\"Subtraction:\", arr1 - arr2)\n",
    "print(\"Multiplication:\", arr1 * arr2)\n",
    "print(\"Division:\", arr1 / arr2)\n",
    "print()\n"
   ]
  },
  {
   "cell_type": "code",
   "execution_count": 43,
   "metadata": {},
   "outputs": [
    {
     "name": "stdout",
     "output_type": "stream",
     "text": [
      "Scalar Operations:\n",
      "Array 1 multiplied by 2: [2 4 6 8]\n",
      "Array 2 divided by 2: [2.5 3.  3.5 4. ]\n",
      "\n",
      "Aggregation Functions:\n",
      "Sum of Array 1: 10\n",
      "Mean of Array 1: 2.5\n",
      "Max value in Array 2: 8\n",
      "Min value in Array 2: 5\n",
      "Standard Deviation of Array 1: 1.118033988749895\n",
      "\n"
     ]
    }
   ],
   "source": [
    "# 2. Scalar Operations\n",
    "print(\"Scalar Operations:\")\n",
    "print(\"Array 1 multiplied by 2:\", arr1 * 2)  # Broadcasting a scalar value\n",
    "print(\"Array 2 divided by 2:\", arr2 / 2)\n",
    "print()\n",
    "\n",
    "# 3. Aggregation Functions\n",
    "print(\"Aggregation Functions:\")\n",
    "print(\"Sum of Array 1:\", np.sum(arr1))\n",
    "print(\"Mean of Array 1:\", np.mean(arr1))\n",
    "print(\"Max value in Array 2:\", np.max(arr2))\n",
    "print(\"Min value in Array 2:\", np.min(arr2))\n",
    "print(\"Standard Deviation of Array 1:\", np.std(arr1))\n",
    "print()"
   ]
  },
  {
   "cell_type": "code",
   "execution_count": 34,
   "metadata": {},
   "outputs": [
    {
     "name": "stdout",
     "output_type": "stream",
     "text": [
      "Dot Product:\n",
      "Dot product of Array 1 and Array 2: 70\n",
      "\n",
      "Matrix Multiplication:\n",
      "Matrix multiplication of Array 3 and another 2x2 array:\n",
      " [[19 22]\n",
      " [43 50]]\n",
      "\n",
      "Transpose of Array 3:\n",
      "[[1 3]\n",
      " [2 4]]\n",
      "\n",
      "Element-wise Functions:\n",
      "Square root of Array 1: [1.         1.41421356 1.73205081 2.        ]\n",
      "Exponential of Array 1: [ 2.71828183  7.3890561  20.08553692 54.59815003]\n",
      "Logarithm of Array 2: [1.60943791 1.79175947 1.94591015 2.07944154]\n",
      "\n"
     ]
    }
   ],
   "source": [
    "# 4. Dot Product and Matrix Multiplication\n",
    "print(\"Dot Product:\")\n",
    "print(\"Dot product of Array 1 and Array 2:\", np.dot(arr1, arr2))  # 1D arrays dot product\n",
    "print()\n",
    "\n",
    "print(\"Matrix Multiplication:\")\n",
    "arr4 = np.array([[5, 6], [7, 8]])\n",
    "print(\"Matrix multiplication of Array 3 and another 2x2 array:\\n\", np.dot(arr3, arr4))  # Matrix multiplication\n",
    "print()\n",
    "\n",
    "# 5. Transpose of a Matrix\n",
    "print(\"Transpose of Array 3:\")\n",
    "print(arr3.T)\n",
    "print()\n",
    "\n",
    "# 6. Element-wise Functions\n",
    "print(\"Element-wise Functions:\")\n",
    "print(\"Square root of Array 1:\", np.sqrt(arr1))\n",
    "print(\"Exponential of Array 1:\", np.exp(arr1))\n",
    "print(\"Logarithm of Array 2:\", np.log(arr2))\n",
    "print()"
   ]
  },
  {
   "cell_type": "code",
   "execution_count": 35,
   "metadata": {},
   "outputs": [
    {
     "name": "stdout",
     "output_type": "stream",
     "text": [
      "Broadcasting Example:\n",
      "Array 5:\n",
      " [[1 2 3]\n",
      " [4 5 6]]\n",
      "Array 5 multiplied by scalar 2 (broadcasting):\n",
      " [[ 2  4  6]\n",
      " [ 8 10 12]]\n",
      "\n",
      "Comparison Operations:\n",
      "Array 1 > 2: [False False  True  True]\n",
      "Array 2 == 6: [False  True False False]\n",
      "\n",
      "Summing along Axes:\n",
      "Sum of Array 3 along axis 0 (columns): [4 6]\n",
      "Sum of Array 3 along axis 1 (rows): [3 7]\n",
      "\n"
     ]
    }
   ],
   "source": [
    "# 7. Broadcasting\n",
    "print(\"Broadcasting Example:\")\n",
    "arr5 = np.array([[1, 2, 3], [4, 5, 6]])\n",
    "scalar = 2\n",
    "print(\"Array 5:\\n\", arr5)\n",
    "print(\"Array 5 multiplied by scalar 2 (broadcasting):\\n\", arr5 * scalar)\n",
    "print()\n",
    "\n",
    "# 8. Comparison Operations\n",
    "print(\"Comparison Operations:\")\n",
    "print(\"Array 1 > 2:\", arr1 > 2)  # Element-wise comparison\n",
    "print(\"Array 2 == 6:\", arr2 == 6)\n",
    "print()\n",
    "\n",
    "# 9. Summing along Axes\n",
    "print(\"Summing along Axes:\")\n",
    "print(\"Sum of Array 3 along axis 0 (columns):\", np.sum(arr3, axis=0))  # Sum of each column\n",
    "print(\"Sum of Array 3 along axis 1 (rows):\", np.sum(arr3, axis=1))  # Sum of each row\n",
    "print()"
   ]
  },
  {
   "cell_type": "markdown",
   "metadata": {},
   "source": [
    "## Stacking and Concatenating Arrays"
   ]
  },
  {
   "cell_type": "code",
   "execution_count": null,
   "metadata": {},
   "outputs": [
    {
     "name": "stdout",
     "output_type": "stream",
     "text": [
      "Vertical Stacking:\n",
      " [[1 2 3]\n",
      " [4 5 6]]\n",
      "Horizontal Stacking:\n",
      " [1 2 3 4 5 6]\n",
      "Concatenated Array:\n",
      " [1 2 3 4 5 6]\n",
      "\n"
     ]
    }
   ],
   "source": [
    "arr_a = np.array([1, 2, 3])\n",
    "arr_b = np.array([4, 5, 6])\n",
    "\n",
    "# Vertical stacking (along rows)\n",
    "arr_vstack = np.vstack((arr_a, arr_b))\n",
    "print(\"Vertical Stacking:\\n\", arr_vstack)\n",
    "\n",
    "# Horizontal stacking (along columns)\n",
    "arr_hstack = np.hstack((arr_a, arr_b))\n",
    "print(\"Horizontal Stacking:\\n\", arr_hstack)\n",
    "\n",
    "# Concatenating along a specific axis\n",
    "arr_concat = np.concatenate((arr_a, arr_b), axis=0)  # For 1D arrays, axis=0 is the only option\n",
    "print(\"Concatenated Array:\\n\", arr_concat)\n",
    "print()"
   ]
  },
  {
   "cell_type": "markdown",
   "metadata": {},
   "source": [
    "## Reshaping Arrays"
   ]
  },
  {
   "cell_type": "code",
   "execution_count": null,
   "metadata": {},
   "outputs": [
    {
     "name": "stdout",
     "output_type": "stream",
     "text": [
      "Original Array: [ 1  2  3  4  5  6  7  8  9 10 11 12]\n",
      "Reshaped to 3x4 matrix:\n",
      " [[ 1  2  3  4]\n",
      " [ 5  6  7  8]\n",
      " [ 9 10 11 12]]\n",
      "Flattened array:\n",
      " [ 1  2  3  4  5  6  7  8  9 10 11 12]\n",
      "\n"
     ]
    }
   ],
   "source": [
    "\n",
    "arr = np.arange(1, 13)  # Array with values from 1 to 12\n",
    "print(\"Original Array:\", arr)\n",
    "\n",
    "# Reshape to 3x4 matrix\n",
    "arr_reshaped = arr.reshape(3, 4)\n",
    "print(\"Reshaped to 3x4 matrix:\\n\", arr_reshaped)\n",
    "\n",
    "# Reshape back to 1D array\n",
    "arr_flatten = arr_reshaped.flatten()\n",
    "print(\"Flattened array:\\n\", arr_flatten)\n",
    "print()"
   ]
  },
  {
   "cell_type": "markdown",
   "metadata": {},
   "source": [
    "## Copying Arrays"
   ]
  },
  {
   "cell_type": "code",
   "execution_count": 13,
   "metadata": {},
   "outputs": [
    {
     "name": "stdout",
     "output_type": "stream",
     "text": [
      "Modified Copy (View):\n",
      " [[100   2   3   4]\n",
      " [  5   6   7   8]\n",
      " [  9  10  11  12]]\n",
      "Original Array after modifying the copy:\n",
      " [[100   2   3   4]\n",
      " [  5   6   7   8]\n",
      " [  9  10  11  12]]\n",
      "\n",
      "Modified Deep Copy:\n",
      " [[200   2   3   4]\n",
      " [  5   6   7   8]\n",
      " [  9  10  11  12]]\n",
      "Original Array remains unchanged:\n",
      " [[100   2   3   4]\n",
      " [  5   6   7   8]\n",
      " [  9  10  11  12]]\n",
      "\n"
     ]
    }
   ],
   "source": [
    "\n",
    "\n",
    "# Shallow copy (view)\n",
    "arr_copy = arr_reshaped.view()\n",
    "arr_copy[0, 0] = 100  # Modifying the view will affect the original array\n",
    "print(\"Modified Copy (View):\\n\", arr_copy)\n",
    "print(\"Original Array after modifying the copy:\\n\", arr_reshaped)\n",
    "print()\n",
    "\n",
    "# Deep copy (independent copy)\n",
    "arr_deep_copy = arr_reshaped.copy()\n",
    "arr_deep_copy[0, 0] = 200  # Modifying the deep copy will NOT affect the original array\n",
    "print(\"Modified Deep Copy:\\n\", arr_deep_copy)\n",
    "print(\"Original Array remains unchanged:\\n\", arr_reshaped)\n",
    "print()"
   ]
  },
  {
   "cell_type": "markdown",
   "metadata": {},
   "source": [
    "## Advanced Array Functions"
   ]
  },
  {
   "cell_type": "code",
   "execution_count": 17,
   "metadata": {},
   "outputs": [
    {
     "name": "stdout",
     "output_type": "stream",
     "text": [
      "Unsorted Array: [3 1 2 5 4]\n",
      "Sorted Array: [1 2 3 4 5]\n",
      "\n",
      "Array with Duplicates: [1 2 2 3 4 4 5]\n",
      "Unique Values: [1 2 3 4 5]\n",
      "\n"
     ]
    }
   ],
   "source": [
    "\n",
    "# Sorting arrays\n",
    "arr_unsorted = np.array([3, 1, 2, 5, 4])\n",
    "arr_sorted = np.sort(arr_unsorted)\n",
    "print(\"Unsorted Array:\", arr_unsorted)\n",
    "print(\"Sorted Array:\", arr_sorted)\n",
    "print()\n",
    "\n",
    "# Unique values in an array\n",
    "arr_with_duplicates = np.array([1, 2, 2, 3, 4, 4, 5])\n",
    "arr_unique = np.unique(arr_with_duplicates)\n",
    "print(\"Array with Duplicates:\", arr_with_duplicates)\n",
    "print(\"Unique Values:\", arr_unique)\n",
    "print()"
   ]
  },
  {
   "cell_type": "markdown",
   "metadata": {},
   "source": [
    "## Linear Algebra Operations"
   ]
  },
  {
   "cell_type": "code",
   "execution_count": 16,
   "metadata": {},
   "outputs": [
    {
     "name": "stdout",
     "output_type": "stream",
     "text": [
      "Inverse of the matrix:\n",
      " [[-2.   1. ]\n",
      " [ 1.5 -0.5]]\n",
      "\n",
      "Determinant of the matrix: -2.0000000000000004\n",
      "\n",
      "Eigenvalues:\n",
      " [-0.37228132  5.37228132]\n",
      "Eigenvectors:\n",
      " [[-0.82456484 -0.41597356]\n",
      " [ 0.56576746 -0.90937671]]\n",
      "\n"
     ]
    }
   ],
   "source": [
    "\n",
    "# Matrix inversion\n",
    "arr_square = np.array([[1, 2], [3, 4]])\n",
    "arr_inv = np.linalg.inv(arr_square)\n",
    "print(\"Inverse of the matrix:\\n\", arr_inv)\n",
    "print()\n",
    "\n",
    "# Determinant of a matrix\n",
    "det = np.linalg.det(arr_square)\n",
    "print(\"Determinant of the matrix:\", det)\n",
    "print()\n",
    "\n",
    "# Eigenvalues and Eigenvectors\n",
    "eigenvalues, eigenvectors = np.linalg.eig(arr_square)\n",
    "print(\"Eigenvalues:\\n\", eigenvalues)\n",
    "print(\"Eigenvectors:\\n\", eigenvectors)\n",
    "print()"
   ]
  },
  {
   "cell_type": "markdown",
   "metadata": {},
   "source": [
    "## Handling Missing Data"
   ]
  },
  {
   "cell_type": "code",
   "execution_count": 19,
   "metadata": {},
   "outputs": [
    {
     "name": "stdout",
     "output_type": "stream",
     "text": [
      "Array with NaN: [ 1.  2. nan  4.  5.]\n",
      "Is NaN: [False False  True False False]\n",
      "\n",
      "NaN replaced with -1: [ 1.  2. -1.  4.  5.]\n",
      "\n"
     ]
    }
   ],
   "source": [
    "\n",
    "arr_nan = np.array([1, 2, np.nan, 4, 5])\n",
    "\n",
    "# Check for NaN values\n",
    "print(\"Array with NaN:\", arr_nan)\n",
    "print(\"Is NaN:\", np.isnan(arr_nan))\n",
    "print()\n",
    "\n",
    "# Replace NaN values with a specific value\n",
    "arr_nan_replaced = np.nan_to_num(arr_nan, nan=-1)\n",
    "print(\"NaN replaced with -1:\", arr_nan_replaced)\n",
    "print()"
   ]
  },
  {
   "cell_type": "markdown",
   "metadata": {},
   "source": [
    "## Broadcasting in Detail"
   ]
  },
  {
   "cell_type": "code",
   "execution_count": 36,
   "metadata": {},
   "outputs": [
    {
     "name": "stdout",
     "output_type": "stream",
     "text": [
      "Result of broadcasting smaller array across larger array rows:\n",
      " [[ 2  2  4]\n",
      " [ 5  5  7]\n",
      " [ 8  8 10]]\n",
      "\n"
     ]
    }
   ],
   "source": [
    "\n",
    "# Broadcasting a smaller array across a larger array\n",
    "arr_large = np.array([[1, 2, 3], [4, 5, 6], [7, 8, 9]])\n",
    "arr_small = np.array([1, 0, 1])\n",
    "\n",
    "# Broadcasting the smaller array across rows\n",
    "print(\"Result of broadcasting smaller array across larger array rows:\\n\", arr_large + arr_small)\n",
    "print()"
   ]
  },
  {
   "cell_type": "markdown",
   "metadata": {},
   "source": [
    "## Masked Arrays"
   ]
  },
  {
   "cell_type": "code",
   "execution_count": 37,
   "metadata": {},
   "outputs": [
    {
     "name": "stdout",
     "output_type": "stream",
     "text": [
      "Masked Array: [1 2 -- 4 5]\n",
      "Conditionally Masked Array: [1 2 -- 4 5]\n",
      "\n"
     ]
    }
   ],
   "source": [
    "\n",
    "import numpy.ma as ma\n",
    "\n",
    "# Creating a masked array\n",
    "arr = np.array([1, 2, -999, 4, 5])\n",
    "arr_masked = ma.masked_array(arr, mask=[0, 0, 1, 0, 0])  # Masking the value -999\n",
    "print(\"Masked Array:\", arr_masked)\n",
    "\n",
    "# Masking conditionally\n",
    "arr_masked_conditional = ma.masked_where(arr < 0, arr)\n",
    "print(\"Conditionally Masked Array:\", arr_masked_conditional)\n",
    "print()"
   ]
  },
  {
   "cell_type": "markdown",
   "metadata": {},
   "source": [
    "## Memory Mapping Large Files"
   ]
  },
  {
   "cell_type": "code",
   "execution_count": 38,
   "metadata": {},
   "outputs": [
    {
     "name": "stdout",
     "output_type": "stream",
     "text": [
      "Memory-mapped array created and partially written.\n",
      "\n"
     ]
    }
   ],
   "source": [
    "\n",
    "# Example: Creating a memory-mapped file\n",
    "arr = np.memmap('large_array.dat', dtype='float32', mode='w+', shape=(1000, 1000))\n",
    "\n",
    "# Writing data to the memory-mapped array\n",
    "arr[:] = np.random.rand(1000, 1000)\n",
    "print(\"Memory-mapped array created and partially written.\")\n",
    "print()"
   ]
  },
  {
   "cell_type": "markdown",
   "metadata": {},
   "source": [
    "## Structured Arrays and Record Arrays"
   ]
  },
  {
   "cell_type": "code",
   "execution_count": 39,
   "metadata": {},
   "outputs": [
    {
     "name": "stdout",
     "output_type": "stream",
     "text": [
      "Structured Array:\n",
      " [(1, 'Alice', 25.5) (2, 'Bob', 30.3)]\n",
      "Accessing by field name (age): [25.5 30.3]\n",
      "\n"
     ]
    }
   ],
   "source": [
    "\n",
    "# Creating a structured array\n",
    "data = np.array([(1, 'Alice', 25.5), (2, 'Bob', 30.3)],\n",
    "                dtype=[('id', 'i4'), ('name', 'U10'), ('age', 'f4')])\n",
    "\n",
    "print(\"Structured Array:\\n\", data)\n",
    "print(\"Accessing by field name (age):\", data['age'])\n",
    "print()"
   ]
  },
  {
   "cell_type": "markdown",
   "metadata": {},
   "source": [
    "## Random Sampling"
   ]
  },
  {
   "cell_type": "code",
   "execution_count": 40,
   "metadata": {},
   "outputs": [
    {
     "name": "stdout",
     "output_type": "stream",
     "text": [
      "Random samples from normal distribution: [ 0.55365366 -0.04078649 -0.85612433 -0.91445941 -2.13225697]\n",
      "Original Array: [0 1 2 3 4 5 6 7 8 9]\n",
      "Shuffled Array: [5 0 9 7 8 6 1 4 3 2]\n",
      "\n"
     ]
    }
   ],
   "source": [
    "\n",
    "# Random sampling from normal distribution\n",
    "samples = np.random.normal(loc=0.0, scale=1.0, size=5)\n",
    "print(\"Random samples from normal distribution:\", samples)\n",
    "\n",
    "# Random permutation of an array\n",
    "arr = np.arange(10)\n",
    "print(\"Original Array:\", arr)\n",
    "np.random.shuffle(arr)\n",
    "print(\"Shuffled Array:\", arr)\n",
    "print()"
   ]
  },
  {
   "cell_type": "markdown",
   "metadata": {},
   "source": [
    "## Universal Functions (ufuncs)"
   ]
  },
  {
   "cell_type": "code",
   "execution_count": 41,
   "metadata": {},
   "outputs": [
    {
     "name": "stdout",
     "output_type": "stream",
     "text": [
      "Original Array: [1 2 3 4]\n",
      "Sine of each element: [ 0.84147098  0.90929743  0.14112001 -0.7568025 ]\n",
      "Exponent of each element: [ 2.71828183  7.3890561  20.08553692 54.59815003]\n",
      "\n"
     ]
    }
   ],
   "source": [
    "\n",
    "# Applying ufuncs to arrays\n",
    "arr = np.array([1, 2, 3, 4])\n",
    "print(\"Original Array:\", arr)\n",
    "print(\"Sine of each element:\", np.sin(arr))\n",
    "print(\"Exponent of each element:\", np.exp(arr))\n",
    "print()"
   ]
  },
  {
   "cell_type": "markdown",
   "metadata": {},
   "source": [
    "## Custom Universal Functions"
   ]
  },
  {
   "cell_type": "code",
   "execution_count": 42,
   "metadata": {},
   "outputs": [
    {
     "name": "stdout",
     "output_type": "stream",
     "text": [
      "Vectorized addition: [5 7 9]\n",
      "\n"
     ]
    }
   ],
   "source": [
    "\n",
    "# Custom function\n",
    "def my_func(x, y):\n",
    "    return x + y\n",
    "\n",
    "# Vectorizing the function\n",
    "vec_func = np.vectorize(my_func)\n",
    "print(\"Vectorized addition:\", vec_func([1, 2, 3], [4, 5, 6]))\n",
    "print()"
   ]
  }
 ],
 "metadata": {
  "kernelspec": {
   "display_name": "conceptual-pyenv-env",
   "language": "python",
   "name": "python3"
  },
  "language_info": {
   "codemirror_mode": {
    "name": "ipython",
    "version": 3
   },
   "file_extension": ".py",
   "mimetype": "text/x-python",
   "name": "python",
   "nbconvert_exporter": "python",
   "pygments_lexer": "ipython3",
   "version": "3.12.4"
  }
 },
 "nbformat": 4,
 "nbformat_minor": 2
}
