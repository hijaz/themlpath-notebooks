{
 "cells": [
  {
   "cell_type": "markdown",
   "metadata": {},
   "source": [
    "<h3><a href=\"https://themlpath.com\">< The ML Path</a></h3>\n",
    "\n",
    "<h1>NumPy</h1>"
   ]
  },
  {
   "cell_type": "markdown",
   "metadata": {},
   "source": [
    "## Introduction to NumPy\n",
    "\n",
    "NumPy (Numerical Python) is a fundamental package for scientific computing in Python. It provides support for large, multi-dimensional arrays and matrices, along with a collection of mathematical functions to operate on these arrays.\n",
    "\n",
    "### Why NumPy is Needed\n",
    "\n",
    "- **Performance**: NumPy arrays are more efficient than Python lists because they require less memory and allow faster computation.\n",
    "- **Vectorization**: NumPy allows for vectorized operations, meaning operations that can be applied element-wise without looping. This makes code cleaner and faster.\n",
    "- **Convenience**: It provides many built-in functions for linear algebra, random number generation, and basic array operations, which makes it easier to work with data at scale.\n",
    "\n",
    "### Difference Between NumPy Arrays and Python Lists\n",
    "\n",
    "1. **Size**: NumPy arrays are more memory efficient than Python lists.\n",
    "2. **Speed**: Operations on NumPy arrays are faster due to optimized, compiled C code running behind the scenes.\n",
    "3. **Functionality**: NumPy arrays come with a wide variety of mathematical and statistical functions, while Python lists are limited in built-in functionality.\n",
    "\n",
    "Let’s explore these differences by example.\n"
   ]
  },
  {
   "cell_type": "code",
   "execution_count": 2,
   "metadata": {},
   "outputs": [
    {
     "name": "stdout",
     "output_type": "stream",
     "text": [
      "Collecting numpy\n",
      "  Downloading numpy-2.1.1-cp312-cp312-manylinux_2_17_x86_64.manylinux2014_x86_64.whl.metadata (60 kB)\n",
      "\u001b[2K     \u001b[90m━━━━━━━━━━━━━━━━━━━━━━━━━━━━━━━━━━━━━━━\u001b[0m \u001b[32m60.9/60.9 kB\u001b[0m \u001b[31m202.6 kB/s\u001b[0m eta \u001b[36m0:00:00\u001b[0ma \u001b[36m0:00:01\u001b[0m\n",
      "\u001b[?25hDownloading numpy-2.1.1-cp312-cp312-manylinux_2_17_x86_64.manylinux2014_x86_64.whl (16.0 MB)\n",
      "\u001b[2K   \u001b[90m━━━━━━━━━━━━━━━━━━━━━━━━━━━━━━━━━━━━━━━━\u001b[0m \u001b[32m16.0/16.0 MB\u001b[0m \u001b[31m1.7 MB/s\u001b[0m eta \u001b[36m0:00:00\u001b[0m00:01\u001b[0m00:01\u001b[0mm\n",
      "\u001b[?25hInstalling collected packages: numpy\n",
      "Successfully installed numpy-2.1.1\n",
      "\n",
      "\u001b[1m[\u001b[0m\u001b[34;49mnotice\u001b[0m\u001b[1;39;49m]\u001b[0m\u001b[39;49m A new release of pip is available: \u001b[0m\u001b[31;49m24.0\u001b[0m\u001b[39;49m -> \u001b[0m\u001b[32;49m24.2\u001b[0m\n",
      "\u001b[1m[\u001b[0m\u001b[34;49mnotice\u001b[0m\u001b[1;39;49m]\u001b[0m\u001b[39;49m To update, run: \u001b[0m\u001b[32;49mpip install --upgrade pip\u001b[0m\n",
      "Note: you may need to restart the kernel to use updated packages.\n"
     ]
    }
   ],
   "source": [
    "# Install numpy\n",
    "\n",
    "pip install numpy"
   ]
  },
  {
   "cell_type": "markdown",
   "metadata": {},
   "source": [
    "## Comparing NumPy Arrays and Python Lists"
   ]
  },
  {
   "cell_type": "code",
   "execution_count": 3,
   "metadata": {},
   "outputs": [
    {
     "name": "stdout",
     "output_type": "stream",
     "text": [
      "Python list memory size: 8056 bytes\n",
      "NumPy array memory size: 8000 bytes\n",
      "Python list sum time: 0.009281158447265625 seconds\n",
      "NumPy array sum time: 0.0007276535034179688 seconds\n",
      "1D Array: [1 2 3 4 5]\n",
      "2D Array:\n",
      " [[1 2 3]\n",
      " [4 5 6]]\n"
     ]
    }
   ],
   "source": [
    "import numpy as np\n",
    "\n",
    "# Memory Efficiency\n",
    "import sys\n",
    "\n",
    "# Memory usage of Python list\n",
    "python_list = list(range(1000))\n",
    "print(\"Python list memory size:\", sys.getsizeof(python_list), \"bytes\")\n",
    "\n",
    "# Memory usage of NumPy array\n",
    "numpy_array = np.arange(1000)\n",
    "print(\"NumPy array memory size:\", numpy_array.nbytes, \"bytes\")\n",
    "\n",
    "\n",
    "# Speed Efficiency\n",
    "import time\n",
    "\n",
    "# Creating a large list and array\n",
    "size = 1000000\n",
    "python_list = list(range(size))\n",
    "numpy_array = np.arange(size)\n",
    "\n",
    "# Timing sum operation for Python list\n",
    "start = time.time()\n",
    "sum_list = sum(python_list)\n",
    "print(\"Python list sum time:\", time.time() - start, \"seconds\")\n",
    "\n",
    "# Timing sum operation for NumPy array\n",
    "start = time.time()\n",
    "sum_array = np.sum(numpy_array)\n",
    "print(\"NumPy array sum time:\", time.time() - start, \"seconds\")\n",
    "\n",
    "\n",
    "# Creating Arrays\n",
    "# Creating a 1D array\n",
    "arr_1d = np.array([1, 2, 3, 4, 5])\n",
    "print(\"1D Array:\", arr_1d)\n",
    "\n",
    "# Creating a 2D array\n",
    "arr_2d = np.array([[1, 2, 3], [4, 5, 6]])\n",
    "print(\"2D Array:\\n\", arr_2d)"
   ]
  },
  {
   "cell_type": "markdown",
   "metadata": {},
   "source": [
    "## More Ways of Creating NumPy Arrays"
   ]
  },
  {
   "cell_type": "code",
   "execution_count": 4,
   "metadata": {},
   "outputs": [
    {
     "name": "stdout",
     "output_type": "stream",
     "text": [
      "Array using arange(): [0 2 4 6 8]\n",
      "Array using linspace(): [0.   0.25 0.5  0.75 1.  ]\n",
      "Array of zeros:\n",
      " [[0. 0. 0.]\n",
      " [0. 0. 0.]\n",
      " [0. 0. 0.]]\n",
      "Array of ones:\n",
      " [[1. 1. 1. 1.]\n",
      " [1. 1. 1. 1.]]\n",
      "Identity matrix:\n",
      " [[1. 0. 0. 0.]\n",
      " [0. 1. 0. 0.]\n",
      " [0. 0. 1. 0.]\n",
      " [0. 0. 0. 1.]]\n",
      "Random array:\n",
      " [[0.64469094 0.82379121]\n",
      " [0.30524902 0.12037909]\n",
      " [0.38201424 0.57361601]]\n",
      "Random integer array:\n",
      " [[91 34 38]\n",
      " [ 3 49 19]\n",
      " [ 7 72 37]]\n",
      "Array of constant value:\n",
      " [[7 7]\n",
      " [7 7]]\n",
      "Array using logspace(): [   1.   10.  100. 1000.]\n",
      "Uninitialized array (empty):\n",
      " [[6.94556252e-310 4.67592204e-310 6.94554568e-310]\n",
      " [6.94554568e-310 6.94554568e-310 6.94554568e-310]\n",
      " [6.94554568e-310 6.94554568e-310 6.94554568e-310]]\n"
     ]
    }
   ],
   "source": [
    "# 1. Creating an array with a range of values using arange()\n",
    "arr_range = np.arange(0, 10, 2)  # Start at 0, go up to 10, step by 2\n",
    "print(\"Array using arange():\", arr_range)\n",
    "\n",
    "# 2. Creating an array with evenly spaced values using linspace()\n",
    "arr_linspace = np.linspace(0, 1, 5)  # 5 equally spaced values between 0 and 1\n",
    "print(\"Array using linspace():\", arr_linspace)\n",
    "\n",
    "# 3. Creating an array filled with zeros\n",
    "arr_zeros = np.zeros((3, 3))  # 3x3 array filled with zeros\n",
    "print(\"Array of zeros:\\n\", arr_zeros)\n",
    "\n",
    "# 4. Creating an array filled with ones\n",
    "arr_ones = np.ones((2, 4))  # 2x4 array filled with ones\n",
    "print(\"Array of ones:\\n\", arr_ones)\n",
    "\n",
    "# 5. Creating an identity matrix using eye()\n",
    "arr_eye = np.eye(4)  # 4x4 identity matrix\n",
    "print(\"Identity matrix:\\n\", arr_eye)\n",
    "\n",
    "# 6. Creating an array of random values between 0 and 1\n",
    "arr_random = np.random.rand(3, 2)  # 3x2 array of random floats between 0 and 1\n",
    "print(\"Random array:\\n\", arr_random)\n",
    "\n",
    "# 7. Creating an array of random integers\n",
    "arr_randint = np.random.randint(0, 100, (3, 3))  # 3x3 array of random integers between 0 and 100\n",
    "print(\"Random integer array:\\n\", arr_randint)\n",
    "\n",
    "# 8. Creating an array of a constant value\n",
    "arr_full = np.full((2, 2), 7)  # 2x2 array filled with the value 7\n",
    "print(\"Array of constant value:\\n\", arr_full)\n",
    "\n",
    "# 9. Creating an array of equally spaced values (logarithmic scale) using logspace()\n",
    "arr_logspace = np.logspace(0, 3, 4)  # 4 values between 10^0 and 10^3\n",
    "print(\"Array using logspace():\", arr_logspace)\n",
    "\n",
    "# 10. Creating an uninitialized array (for performance)\n",
    "arr_empty = np.empty((3, 3))  # 3x3 array with uninitialized values (whatever happens to be in memory)\n",
    "print(\"Uninitialized array (empty):\\n\", arr_empty)\n"
   ]
  }
 ],
 "metadata": {
  "kernelspec": {
   "display_name": "conceptual-pyenv-env",
   "language": "python",
   "name": "python3"
  },
  "language_info": {
   "codemirror_mode": {
    "name": "ipython",
    "version": 3
   },
   "file_extension": ".py",
   "mimetype": "text/x-python",
   "name": "python",
   "nbconvert_exporter": "python",
   "pygments_lexer": "ipython3",
   "version": "3.12.4"
  }
 },
 "nbformat": 4,
 "nbformat_minor": 2
}
