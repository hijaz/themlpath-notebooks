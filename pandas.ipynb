{
 "cells": [
  {
   "cell_type": "markdown",
   "metadata": {},
   "source": [
    "# 1. Introduction to Pandas\n",
    "\n",
    "## What is Pandas?\n",
    "\n",
    "Pandas is an open-source data manipulation and analysis library for Python. It provides high-level data structures like **Series** and **DataFrame** that make working with structured data (like tables and time series) simple and intuitive.\n",
    "\n",
    "Pandas is especially useful for:\n",
    "- Handling missing data\n",
    "- Data cleaning and transformation\n",
    "- Reshaping and pivoting datasets\n",
    "- Time-series analysis\n",
    "- Merging and joining datasets\n",
    "- Input/output to CSV, Excel, SQL, etc.\n",
    "\n",
    "## Why Pandas Was Built on Top of NumPy\n",
    "\n",
    "While **NumPy** is excellent for numerical computations and efficiently handling arrays, it lacks the high-level functionality required for working with **tabular data** (like spreadsheets or SQL tables). \n",
    "\n",
    "### Key Differences:\n",
    "- **Labeled Indexing**: Unlike NumPy, Pandas allows for **labeled indexing**, making it easier to access data by row and column labels rather than just numerical indices.\n",
    "- **Handling Missing Data**: Pandas has built-in methods for **handling missing data** (`NaN`), which is not natively handled by NumPy.\n",
    "- **Tabular Data Operations**: Pandas provides a rich set of **data manipulation tools** like grouping, filtering, merging, and reshaping, which are cumbersome to implement using NumPy alone.\n",
    "\n",
    "**NumPy** is primarily focused on numerical computing and provides extensive functionality for:\n",
    "- **Linear Algebra**: Operations like matrix multiplication, matrix inversion, and solving linear systems (`numpy.linalg`).\n",
    "- **Calculus**: While NumPy does not directly provide symbolic calculus, it does offer numerical differentiation and integration through functions like `numpy.gradient()` for approximating derivatives.\n",
    "- **Statistics**: NumPy provides basic statistical functions like mean, median, variance, standard deviation, etc.\n",
    "\n",
    "**Pandas** is built on top of NumPy and primarily focuses on data manipulation and analysis rather than numerical computing. It does provide basic **statistical operations** (mean, sum, count, etc.) but relies on NumPy for more advanced mathematical operations.\n",
    "\n",
    "In short, Pandas builds on the efficiency of NumPy while adding user-friendly, high-level functionality for manipulating structured data.\n",
    "\n",
    "\n",
    "\n",
    "\n",
    "## Installing Pandas\n",
    "To install Pandas, you can use pip:\n",
    "\n",
    "```bash\n",
    "pip install pandas\n",
    "```\n",
    "\n",
    "Or if you're using Anaconda:\n",
    "\n",
    "```bash\n",
    "conda install pandas\n",
    "```"
   ]
  },
  {
   "cell_type": "code",
   "execution_count": 1,
   "metadata": {},
   "outputs": [
    {
     "name": "stdout",
     "output_type": "stream",
     "text": [
      "Collecting pandas\n",
      "  Downloading pandas-2.2.3-cp312-cp312-manylinux_2_17_x86_64.manylinux2014_x86_64.whl.metadata (89 kB)\n",
      "\u001b[2K     \u001b[90m━━━━━━━━━━━━━━━━━━━━━━━━━━━━━━━━━━━━━━━━\u001b[0m \u001b[32m89.9/89.9 kB\u001b[0m \u001b[31m1.3 MB/s\u001b[0m eta \u001b[36m0:00:00\u001b[0ma \u001b[36m0:00:01\u001b[0m\n",
      "\u001b[?25hRequirement already satisfied: numpy>=1.26.0 in /home/hijaz/.pyenv/versions/3.12.4/envs/conceptual-pyenv-env/lib/python3.12/site-packages (from pandas) (2.1.1)\n",
      "Requirement already satisfied: python-dateutil>=2.8.2 in /home/hijaz/.pyenv/versions/3.12.4/envs/conceptual-pyenv-env/lib/python3.12/site-packages (from pandas) (2.9.0.post0)\n",
      "Collecting pytz>=2020.1 (from pandas)\n",
      "  Downloading pytz-2024.2-py2.py3-none-any.whl.metadata (22 kB)\n",
      "Collecting tzdata>=2022.7 (from pandas)\n",
      "  Downloading tzdata-2024.2-py2.py3-none-any.whl.metadata (1.4 kB)\n",
      "Requirement already satisfied: six>=1.5 in /home/hijaz/.pyenv/versions/3.12.4/envs/conceptual-pyenv-env/lib/python3.12/site-packages (from python-dateutil>=2.8.2->pandas) (1.16.0)\n",
      "Downloading pandas-2.2.3-cp312-cp312-manylinux_2_17_x86_64.manylinux2014_x86_64.whl (12.7 MB)\n",
      "\u001b[2K   \u001b[90m━━━━━━━━━━━━━━━━━━━━━━━━━━━━━━━━━━━━━━━━\u001b[0m \u001b[32m12.7/12.7 MB\u001b[0m \u001b[31m2.1 MB/s\u001b[0m eta \u001b[36m0:00:00\u001b[0m00:01\u001b[0m00:01\u001b[0m\n",
      "\u001b[?25hDownloading pytz-2024.2-py2.py3-none-any.whl (508 kB)\n",
      "\u001b[2K   \u001b[90m━━━━━━━━━━━━━━━━━━━━━━━━━━━━━━━━━━━━━━━━\u001b[0m \u001b[32m508.0/508.0 kB\u001b[0m \u001b[31m1.6 MB/s\u001b[0m eta \u001b[36m0:00:00\u001b[0ma \u001b[36m0:00:01\u001b[0m\n",
      "\u001b[?25hDownloading tzdata-2024.2-py2.py3-none-any.whl (346 kB)\n",
      "\u001b[2K   \u001b[90m━━━━━━━━━━━━━━━━━━━━━━━━━━━━━━━━━━━━━━━━\u001b[0m \u001b[32m346.6/346.6 kB\u001b[0m \u001b[31m3.3 MB/s\u001b[0m eta \u001b[36m0:00:00\u001b[0ma \u001b[36m0:00:01\u001b[0m\n",
      "\u001b[?25hInstalling collected packages: pytz, tzdata, pandas\n",
      "Successfully installed pandas-2.2.3 pytz-2024.2 tzdata-2024.2\n",
      "\n",
      "\u001b[1m[\u001b[0m\u001b[34;49mnotice\u001b[0m\u001b[1;39;49m]\u001b[0m\u001b[39;49m A new release of pip is available: \u001b[0m\u001b[31;49m24.0\u001b[0m\u001b[39;49m -> \u001b[0m\u001b[32;49m24.2\u001b[0m\n",
      "\u001b[1m[\u001b[0m\u001b[34;49mnotice\u001b[0m\u001b[1;39;49m]\u001b[0m\u001b[39;49m To update, run: \u001b[0m\u001b[32;49mpip install --upgrade pip\u001b[0m\n"
     ]
    }
   ],
   "source": [
    "!pip install pandas"
   ]
  },
  {
   "cell_type": "markdown",
   "metadata": {},
   "source": [
    "\n",
    "## Importing Pandas\n",
    "\n",
    "Once installed, you can import the library in your Jupyter notebook or Python script using:\n",
    "```python\n",
    "# Importing pandas\n",
    "import pandas as pd\n",
    "```\n",
    "\n",
    "The convention `pd` is widely used in the data science community for easier access to Pandas functions and methods."
   ]
  },
  {
   "cell_type": "markdown",
   "metadata": {},
   "source": [
    "\n",
    "# 2. Data Structures\n",
    "\n",
    "## Series: 1D Data Structure\n",
    "\n",
    "A Pandas **Series** is a one-dimensional labeled array that can hold any data type (integers, strings, floats, etc.). It’s similar to a column in a DataFrame.\n",
    "\n",
    "### Creating a Series\n",
    "You can create a Series by passing a list, NumPy array, or dictionary.\n",
    "\n"
   ]
  },
  {
   "cell_type": "code",
   "execution_count": 2,
   "metadata": {},
   "outputs": [
    {
     "name": "stdout",
     "output_type": "stream",
     "text": [
      "0    1\n",
      "1    2\n",
      "2    3\n",
      "3    4\n",
      "4    5\n",
      "dtype: int64\n"
     ]
    }
   ],
   "source": [
    "\n",
    "import pandas as pd\n",
    "\n",
    "# Creating a Series from a list\n",
    "s = pd.Series([1, 2, 3, 4, 5])\n",
    "print(s)"
   ]
  },
  {
   "cell_type": "code",
   "execution_count": 3,
   "metadata": {},
   "outputs": [
    {
     "name": "stdout",
     "output_type": "stream",
     "text": [
      "a    10\n",
      "b    20\n",
      "c    30\n",
      "dtype: int64\n"
     ]
    }
   ],
   "source": [
    "# Creating a Series with custom index\n",
    "s_custom_index = pd.Series([10, 20, 30], index=['a', 'b', 'c'])\n",
    "print(s_custom_index)"
   ]
  },
  {
   "cell_type": "markdown",
   "metadata": {},
   "source": [
    "## DataFrame: 2D Data Structure\n",
    "\n",
    "A Pandas **DataFrame** is a two-dimensional, size-mutable, and potentially heterogeneous tabular data structure with labeled axes (rows and columns). Think of it like a spreadsheet or SQL table.\n",
    "\n",
    "### Creating a DataFrame\n",
    "You can create a DataFrame from a variety of inputs, such as dictionaries, lists, or NumPy arrays.\n"
   ]
  },
  {
   "cell_type": "code",
   "execution_count": 7,
   "metadata": {},
   "outputs": [
    {
     "name": "stdout",
     "output_type": "stream",
     "text": [
      "    Name  Age\n",
      "0   John   28\n",
      "1   Anna   24\n",
      "2  Peter   35\n",
      "3  Linda   32\n",
      "\n",
      "    Name  Age\n",
      "0   John   28\n",
      "1   Anna   24\n",
      "2  Peter   35\n",
      "3  Linda   32\n"
     ]
    }
   ],
   "source": [
    "# Creating a DataFrame from a dictionary\n",
    "data = {'Name': ['John', 'Anna', 'Peter', 'Linda'],\n",
    "        'Age': [28, 24, 35, 32]}\n",
    "df = pd.DataFrame(data)\n",
    "print(df)\n",
    "print()\n",
    "\n",
    "# Creating a DataFrame from a list of lists\n",
    "data_list = [['John', 28], ['Anna', 24], ['Peter', 35], ['Linda', 32]]\n",
    "df_list = pd.DataFrame(data_list, columns=['Name', 'Age'])\n",
    "print(df_list)\n"
   ]
  },
  {
   "cell_type": "markdown",
   "metadata": {},
   "source": [
    "### Viewing the DataFrame\n",
    "You can use various methods to view the data in a DataFrame.\n"
   ]
  },
  {
   "cell_type": "code",
   "execution_count": 6,
   "metadata": {},
   "outputs": [
    {
     "name": "stdout",
     "output_type": "stream",
     "text": [
      "    Name  Age\n",
      "0   John   28\n",
      "1   Anna   24\n",
      "2  Peter   35\n",
      "3  Linda   32\n",
      "\n",
      "    Name  Age\n",
      "0   John   28\n",
      "1   Anna   24\n",
      "2  Peter   35\n",
      "3  Linda   32\n"
     ]
    }
   ],
   "source": [
    "# Viewing the first few rows\n",
    "print(df.head())\n",
    "print()\n",
    "\n",
    "# Viewing the last few rows\n",
    "print(df.tail())\n",
    "\n"
   ]
  },
  {
   "cell_type": "markdown",
   "metadata": {},
   "source": [
    "# 3. Viewing and Inspecting Data\n",
    "\n",
    "Once you have created a DataFrame, it’s essential to understand how to inspect it to get a sense of its structure, content, and data types.\n",
    "\n"
   ]
  },
  {
   "cell_type": "markdown",
   "metadata": {},
   "source": [
    "## Checking the DataFrame Structure\n",
    "\n",
    "- Use `info()` to get a summary of the DataFrame, including the number of rows, columns, non-null entries, and data types.\n",
    "\n"
   ]
  },
  {
   "cell_type": "code",
   "execution_count": 11,
   "metadata": {},
   "outputs": [
    {
     "name": "stdout",
     "output_type": "stream",
     "text": [
      "<class 'pandas.core.frame.DataFrame'>\n",
      "RangeIndex: 4 entries, 0 to 3\n",
      "Data columns (total 2 columns):\n",
      " #   Column  Non-Null Count  Dtype \n",
      "---  ------  --------------  ----- \n",
      " 0   Name    4 non-null      object\n",
      " 1   Age     4 non-null      int64 \n",
      "dtypes: int64(1), object(1)\n",
      "memory usage: 196.0+ bytes\n",
      "None\n"
     ]
    }
   ],
   "source": [
    "\n",
    "# Get a summary of the DataFrame\n",
    "print(df.info())\n",
    "\n"
   ]
  },
  {
   "cell_type": "markdown",
   "metadata": {},
   "source": [
    "\n",
    "\n",
    "## Descriptive Statistics\n",
    "\n",
    "- Use `describe()` to generate summary statistics for numeric columns, such as count, mean, standard deviation, min, max, and percentiles.\n",
    "\n"
   ]
  },
  {
   "cell_type": "code",
   "execution_count": 12,
   "metadata": {},
   "outputs": [
    {
     "name": "stdout",
     "output_type": "stream",
     "text": [
      "             Age\n",
      "count   4.000000\n",
      "mean   29.750000\n",
      "std     4.787136\n",
      "min    24.000000\n",
      "25%    27.000000\n",
      "50%    30.000000\n",
      "75%    32.750000\n",
      "max    35.000000\n"
     ]
    }
   ],
   "source": [
    "\n",
    "# Get summary statistics for numeric columns\n",
    "print(df.describe())\n",
    "\n"
   ]
  },
  {
   "cell_type": "markdown",
   "metadata": {},
   "source": [
    "\n",
    "## Shape and Dimensions\n",
    "\n",
    "- Use `shape` to get the dimensions of the DataFrame (rows, columns).\n",
    "- Use `len()` to find the number of rows."
   ]
  },
  {
   "cell_type": "code",
   "execution_count": 13,
   "metadata": {},
   "outputs": [
    {
     "name": "stdout",
     "output_type": "stream",
     "text": [
      "(4, 2)\n",
      "4\n"
     ]
    }
   ],
   "source": [
    "\n",
    "# Get the shape of the DataFrame\n",
    "print(df.shape)\n",
    "\n",
    "# Get the number of rows\n",
    "print(len(df))\n"
   ]
  },
  {
   "cell_type": "markdown",
   "metadata": {},
   "source": [
    "## Data Types of Each Column\n",
    "\n",
    "- Use `dtypes` to check the data types of all the columns in the DataFrame.\n"
   ]
  },
  {
   "cell_type": "code",
   "execution_count": 14,
   "metadata": {},
   "outputs": [
    {
     "name": "stdout",
     "output_type": "stream",
     "text": [
      "Name    object\n",
      "Age      int64\n",
      "dtype: object\n"
     ]
    }
   ],
   "source": [
    "# Check data types of columns\n",
    "print(df.dtypes)"
   ]
  }
 ],
 "metadata": {
  "kernelspec": {
   "display_name": "conceptual-pyenv-env",
   "language": "python",
   "name": "python3"
  },
  "language_info": {
   "codemirror_mode": {
    "name": "ipython",
    "version": 3
   },
   "file_extension": ".py",
   "mimetype": "text/x-python",
   "name": "python",
   "nbconvert_exporter": "python",
   "pygments_lexer": "ipython3",
   "version": "3.12.4"
  }
 },
 "nbformat": 4,
 "nbformat_minor": 2
}
