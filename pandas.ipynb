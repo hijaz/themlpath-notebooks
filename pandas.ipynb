{
 "cells": [
  {
   "cell_type": "markdown",
   "metadata": {},
   "source": [
    "<h3><a href=\"https://themlpath.com\">< The ML Path</a></h3>\n",
    "\n",
    "# 1. Introduction to Pandas\n",
    "\n",
    "## What is Pandas?\n",
    "\n",
    "Pandas is an open-source data manipulation and analysis library for Python. It provides high-level data structures like **Series** and **DataFrame** that make working with structured data (like tables and time series) simple and intuitive.\n",
    "\n",
    "Pandas is especially useful for:\n",
    "- Handling missing data\n",
    "- Data cleaning and transformation\n",
    "- Reshaping and pivoting datasets\n",
    "- Time-series analysis\n",
    "- Merging and joining datasets\n",
    "- Input/output to CSV, Excel, SQL, etc.\n",
    "\n",
    "## Why Pandas Was Built on Top of NumPy\n",
    "\n",
    "While **NumPy** is excellent for numerical computations and efficiently handling arrays, it lacks the high-level functionality required for working with **tabular data** (like spreadsheets or SQL tables). \n",
    "\n",
    "### Key Differences:\n",
    "- **Labeled Indexing**: Unlike NumPy, Pandas allows for **labeled indexing**, making it easier to access data by row and column labels rather than just numerical indices.\n",
    "- **Handling Missing Data**: Pandas has built-in methods for **handling missing data** (`NaN`), which is not natively handled by NumPy.\n",
    "- **Tabular Data Operations**: Pandas provides a rich set of **data manipulation tools** like grouping, filtering, merging, and reshaping, which are cumbersome to implement using NumPy alone.\n",
    "\n",
    "**NumPy** is primarily focused on numerical computing and provides extensive functionality for:\n",
    "- **Linear Algebra**: Operations like matrix multiplication, matrix inversion, and solving linear systems (`numpy.linalg`).\n",
    "- **Calculus**: While NumPy does not directly provide symbolic calculus, it does offer numerical differentiation and integration through functions like `numpy.gradient()` for approximating derivatives.\n",
    "- **Statistics**: NumPy provides basic statistical functions like mean, median, variance, standard deviation, etc.\n",
    "\n",
    "**Pandas** is built on top of NumPy and primarily focuses on data manipulation and analysis rather than numerical computing. It does provide basic **statistical operations** (mean, sum, count, etc.) but relies on NumPy for more advanced mathematical operations.\n",
    "\n",
    "In short, Pandas builds on the efficiency of NumPy while adding user-friendly, high-level functionality for manipulating structured data.\n",
    "\n",
    "\n",
    "\n",
    "\n",
    "## Installing Pandas\n",
    "To install Pandas, you can use pip:\n",
    "\n",
    "```bash\n",
    "pip install pandas\n",
    "```\n",
    "\n",
    "Or if you're using Anaconda:\n",
    "\n",
    "```bash\n",
    "conda install pandas\n",
    "```"
   ]
  },
  {
   "cell_type": "code",
   "execution_count": 1,
   "metadata": {},
   "outputs": [
    {
     "name": "stdout",
     "output_type": "stream",
     "text": [
      "Collecting pandas\n",
      "  Downloading pandas-2.2.3-cp312-cp312-manylinux_2_17_x86_64.manylinux2014_x86_64.whl.metadata (89 kB)\n",
      "\u001b[2K     \u001b[90m━━━━━━━━━━━━━━━━━━━━━━━━━━━━━━━━━━━━━━━━\u001b[0m \u001b[32m89.9/89.9 kB\u001b[0m \u001b[31m1.3 MB/s\u001b[0m eta \u001b[36m0:00:00\u001b[0ma \u001b[36m0:00:01\u001b[0m\n",
      "\u001b[?25hRequirement already satisfied: numpy>=1.26.0 in /home/hijaz/.pyenv/versions/3.12.4/envs/conceptual-pyenv-env/lib/python3.12/site-packages (from pandas) (2.1.1)\n",
      "Requirement already satisfied: python-dateutil>=2.8.2 in /home/hijaz/.pyenv/versions/3.12.4/envs/conceptual-pyenv-env/lib/python3.12/site-packages (from pandas) (2.9.0.post0)\n",
      "Collecting pytz>=2020.1 (from pandas)\n",
      "  Downloading pytz-2024.2-py2.py3-none-any.whl.metadata (22 kB)\n",
      "Collecting tzdata>=2022.7 (from pandas)\n",
      "  Downloading tzdata-2024.2-py2.py3-none-any.whl.metadata (1.4 kB)\n",
      "Requirement already satisfied: six>=1.5 in /home/hijaz/.pyenv/versions/3.12.4/envs/conceptual-pyenv-env/lib/python3.12/site-packages (from python-dateutil>=2.8.2->pandas) (1.16.0)\n",
      "Downloading pandas-2.2.3-cp312-cp312-manylinux_2_17_x86_64.manylinux2014_x86_64.whl (12.7 MB)\n",
      "\u001b[2K   \u001b[90m━━━━━━━━━━━━━━━━━━━━━━━━━━━━━━━━━━━━━━━━\u001b[0m \u001b[32m12.7/12.7 MB\u001b[0m \u001b[31m2.1 MB/s\u001b[0m eta \u001b[36m0:00:00\u001b[0m00:01\u001b[0m00:01\u001b[0m\n",
      "\u001b[?25hDownloading pytz-2024.2-py2.py3-none-any.whl (508 kB)\n",
      "\u001b[2K   \u001b[90m━━━━━━━━━━━━━━━━━━━━━━━━━━━━━━━━━━━━━━━━\u001b[0m \u001b[32m508.0/508.0 kB\u001b[0m \u001b[31m1.6 MB/s\u001b[0m eta \u001b[36m0:00:00\u001b[0ma \u001b[36m0:00:01\u001b[0m\n",
      "\u001b[?25hDownloading tzdata-2024.2-py2.py3-none-any.whl (346 kB)\n",
      "\u001b[2K   \u001b[90m━━━━━━━━━━━━━━━━━━━━━━━━━━━━━━━━━━━━━━━━\u001b[0m \u001b[32m346.6/346.6 kB\u001b[0m \u001b[31m3.3 MB/s\u001b[0m eta \u001b[36m0:00:00\u001b[0ma \u001b[36m0:00:01\u001b[0m\n",
      "\u001b[?25hInstalling collected packages: pytz, tzdata, pandas\n",
      "Successfully installed pandas-2.2.3 pytz-2024.2 tzdata-2024.2\n",
      "\n",
      "\u001b[1m[\u001b[0m\u001b[34;49mnotice\u001b[0m\u001b[1;39;49m]\u001b[0m\u001b[39;49m A new release of pip is available: \u001b[0m\u001b[31;49m24.0\u001b[0m\u001b[39;49m -> \u001b[0m\u001b[32;49m24.2\u001b[0m\n",
      "\u001b[1m[\u001b[0m\u001b[34;49mnotice\u001b[0m\u001b[1;39;49m]\u001b[0m\u001b[39;49m To update, run: \u001b[0m\u001b[32;49mpip install --upgrade pip\u001b[0m\n"
     ]
    }
   ],
   "source": [
    "!pip install pandas"
   ]
  },
  {
   "cell_type": "markdown",
   "metadata": {},
   "source": [
    "\n",
    "## Importing Pandas\n",
    "\n",
    "Once installed, you can import the library in your Jupyter notebook or Python script using:\n",
    "```python\n",
    "# Importing pandas\n",
    "import pandas as pd\n",
    "```\n",
    "\n",
    "The convention `pd` is widely used in the data science community for easier access to Pandas functions and methods."
   ]
  },
  {
   "cell_type": "markdown",
   "metadata": {},
   "source": [
    "\n",
    "# 2. Data Structures\n",
    "\n",
    "## Series: 1D Data Structure\n",
    "\n",
    "A Pandas **Series** is a one-dimensional labeled array that can hold any data type (integers, strings, floats, etc.). It’s similar to a column in a DataFrame.\n",
    "\n",
    "### Creating a Series\n",
    "You can create a Series by passing a list, NumPy array, or dictionary.\n",
    "\n"
   ]
  },
  {
   "cell_type": "code",
   "execution_count": 2,
   "metadata": {},
   "outputs": [
    {
     "name": "stdout",
     "output_type": "stream",
     "text": [
      "0    1\n",
      "1    2\n",
      "2    3\n",
      "3    4\n",
      "4    5\n",
      "dtype: int64\n"
     ]
    }
   ],
   "source": [
    "\n",
    "import pandas as pd\n",
    "\n",
    "# Creating a Series from a list\n",
    "s = pd.Series([1, 2, 3, 4, 5])\n",
    "print(s)"
   ]
  },
  {
   "cell_type": "code",
   "execution_count": 3,
   "metadata": {},
   "outputs": [
    {
     "name": "stdout",
     "output_type": "stream",
     "text": [
      "a    10\n",
      "b    20\n",
      "c    30\n",
      "dtype: int64\n"
     ]
    }
   ],
   "source": [
    "# Creating a Series with custom index\n",
    "s_custom_index = pd.Series([10, 20, 30], index=['a', 'b', 'c'])\n",
    "print(s_custom_index)"
   ]
  },
  {
   "cell_type": "markdown",
   "metadata": {},
   "source": [
    "## DataFrame: 2D Data Structure\n",
    "\n",
    "A Pandas **DataFrame** is a two-dimensional, size-mutable, and potentially heterogeneous tabular data structure with labeled axes (rows and columns). Think of it like a spreadsheet or SQL table.\n",
    "\n",
    "### Creating a DataFrame\n",
    "You can create a DataFrame from a variety of inputs, such as dictionaries, lists, or NumPy arrays.\n"
   ]
  },
  {
   "cell_type": "code",
   "execution_count": 40,
   "metadata": {},
   "outputs": [
    {
     "name": "stdout",
     "output_type": "stream",
     "text": [
      "    Name  Age\n",
      "0   John   28\n",
      "1   Anna   24\n",
      "2  Peter   35\n",
      "3  Linda   32\n",
      "\n",
      "    Name  Age\n",
      "0   John   28\n",
      "1   Anna   24\n",
      "2  Peter   35\n",
      "3  Linda   32\n"
     ]
    }
   ],
   "source": [
    "# Creating a DataFrame from a dictionary\n",
    "data = {'Name': ['John', 'Anna', 'Peter', 'Linda'],\n",
    "        'Age': [28, 24, 35, 32]}\n",
    "df = pd.DataFrame(data)\n",
    "print(df)\n",
    "print()\n",
    "\n",
    "# Creating a DataFrame from a list of lists\n",
    "data_list = [['John', 28], ['Anna', 24], ['Peter', 35], ['Linda', 32]]\n",
    "df_list = pd.DataFrame(data_list, columns=['Name', 'Age'])\n",
    "print(df_list)\n"
   ]
  },
  {
   "cell_type": "markdown",
   "metadata": {},
   "source": [
    "### Viewing the DataFrame\n",
    "You can use various methods to view the data in a DataFrame.\n"
   ]
  },
  {
   "cell_type": "code",
   "execution_count": 6,
   "metadata": {},
   "outputs": [
    {
     "name": "stdout",
     "output_type": "stream",
     "text": [
      "    Name  Age\n",
      "0   John   28\n",
      "1   Anna   24\n",
      "2  Peter   35\n",
      "3  Linda   32\n",
      "\n",
      "    Name  Age\n",
      "0   John   28\n",
      "1   Anna   24\n",
      "2  Peter   35\n",
      "3  Linda   32\n"
     ]
    }
   ],
   "source": [
    "# Viewing the first few rows\n",
    "print(df.head())\n",
    "print()\n",
    "\n",
    "# Viewing the last few rows\n",
    "print(df.tail())\n",
    "\n"
   ]
  },
  {
   "cell_type": "markdown",
   "metadata": {},
   "source": [
    "# 3. Viewing and Inspecting Data\n",
    "\n",
    "Once you have created a DataFrame, it’s essential to understand how to inspect it to get a sense of its structure, content, and data types.\n",
    "\n"
   ]
  },
  {
   "cell_type": "markdown",
   "metadata": {},
   "source": [
    "## Checking the DataFrame Structure\n",
    "\n",
    "- Use `info()` to get a summary of the DataFrame, including the number of rows, columns, non-null entries, and data types.\n",
    "\n"
   ]
  },
  {
   "cell_type": "code",
   "execution_count": 11,
   "metadata": {},
   "outputs": [
    {
     "name": "stdout",
     "output_type": "stream",
     "text": [
      "<class 'pandas.core.frame.DataFrame'>\n",
      "RangeIndex: 4 entries, 0 to 3\n",
      "Data columns (total 2 columns):\n",
      " #   Column  Non-Null Count  Dtype \n",
      "---  ------  --------------  ----- \n",
      " 0   Name    4 non-null      object\n",
      " 1   Age     4 non-null      int64 \n",
      "dtypes: int64(1), object(1)\n",
      "memory usage: 196.0+ bytes\n",
      "None\n"
     ]
    }
   ],
   "source": [
    "\n",
    "# Get a summary of the DataFrame\n",
    "print(df.info())\n",
    "\n"
   ]
  },
  {
   "cell_type": "markdown",
   "metadata": {},
   "source": [
    "\n",
    "\n",
    "## Descriptive Statistics\n",
    "\n",
    "- Use `describe()` to generate summary statistics for numeric columns, such as count, mean, standard deviation, min, max, and percentiles.\n",
    "\n"
   ]
  },
  {
   "cell_type": "code",
   "execution_count": 12,
   "metadata": {},
   "outputs": [
    {
     "name": "stdout",
     "output_type": "stream",
     "text": [
      "             Age\n",
      "count   4.000000\n",
      "mean   29.750000\n",
      "std     4.787136\n",
      "min    24.000000\n",
      "25%    27.000000\n",
      "50%    30.000000\n",
      "75%    32.750000\n",
      "max    35.000000\n"
     ]
    }
   ],
   "source": [
    "\n",
    "# Get summary statistics for numeric columns\n",
    "print(df.describe())\n",
    "\n"
   ]
  },
  {
   "cell_type": "markdown",
   "metadata": {},
   "source": [
    "\n",
    "## Shape and Dimensions\n",
    "\n",
    "- Use `shape` to get the dimensions of the DataFrame (rows, columns).\n",
    "- Use `len()` to find the number of rows."
   ]
  },
  {
   "cell_type": "code",
   "execution_count": 13,
   "metadata": {},
   "outputs": [
    {
     "name": "stdout",
     "output_type": "stream",
     "text": [
      "(4, 2)\n",
      "4\n"
     ]
    }
   ],
   "source": [
    "\n",
    "# Get the shape of the DataFrame\n",
    "print(df.shape)\n",
    "\n",
    "# Get the number of rows\n",
    "print(len(df))\n"
   ]
  },
  {
   "cell_type": "markdown",
   "metadata": {},
   "source": [
    "## Data Types of Each Column\n",
    "\n",
    "- Use `dtypes` to check the data types of all the columns in the DataFrame.\n"
   ]
  },
  {
   "cell_type": "code",
   "execution_count": 14,
   "metadata": {},
   "outputs": [
    {
     "name": "stdout",
     "output_type": "stream",
     "text": [
      "Name    object\n",
      "Age      int64\n",
      "dtype: object\n"
     ]
    }
   ],
   "source": [
    "# Check data types of columns\n",
    "print(df.dtypes)"
   ]
  },
  {
   "cell_type": "markdown",
   "metadata": {},
   "source": [
    "# 4. Selecting and Indexing Data\n",
    "\n",
    "Selecting and indexing data from a DataFrame is a key task in data analysis. Pandas provides several ways to do this efficiently.\n"
   ]
  },
  {
   "cell_type": "code",
   "execution_count": 21,
   "metadata": {},
   "outputs": [
    {
     "data": {
      "text/plain": [
       "0    28\n",
       "1    24\n",
       "2    35\n",
       "3    32\n",
       "Name: Age, dtype: int64"
      ]
     },
     "execution_count": 21,
     "metadata": {},
     "output_type": "execute_result"
    }
   ],
   "source": [
    "\n",
    "# Selecting Columns\n",
    "\n",
    "# You can select a column from a DataFrame by passing the column name in brackets or using dot notation.\n",
    "\n",
    "# Selecting a single column\n",
    "df['Age']\n",
    "\n",
    "# Alternatively\n",
    "df.Age\n",
    "\n"
   ]
  },
  {
   "cell_type": "code",
   "execution_count": 23,
   "metadata": {},
   "outputs": [
    {
     "data": {
      "text/html": [
       "<div>\n",
       "<style scoped>\n",
       "    .dataframe tbody tr th:only-of-type {\n",
       "        vertical-align: middle;\n",
       "    }\n",
       "\n",
       "    .dataframe tbody tr th {\n",
       "        vertical-align: top;\n",
       "    }\n",
       "\n",
       "    .dataframe thead th {\n",
       "        text-align: right;\n",
       "    }\n",
       "</style>\n",
       "<table border=\"1\" class=\"dataframe\">\n",
       "  <thead>\n",
       "    <tr style=\"text-align: right;\">\n",
       "      <th></th>\n",
       "      <th>Age</th>\n",
       "      <th>Name</th>\n",
       "    </tr>\n",
       "  </thead>\n",
       "  <tbody>\n",
       "    <tr>\n",
       "      <th>0</th>\n",
       "      <td>28</td>\n",
       "      <td>John</td>\n",
       "    </tr>\n",
       "    <tr>\n",
       "      <th>1</th>\n",
       "      <td>24</td>\n",
       "      <td>Anna</td>\n",
       "    </tr>\n",
       "    <tr>\n",
       "      <th>2</th>\n",
       "      <td>35</td>\n",
       "      <td>Peter</td>\n",
       "    </tr>\n",
       "    <tr>\n",
       "      <th>3</th>\n",
       "      <td>32</td>\n",
       "      <td>Linda</td>\n",
       "    </tr>\n",
       "  </tbody>\n",
       "</table>\n",
       "</div>"
      ],
      "text/plain": [
       "   Age   Name\n",
       "0   28   John\n",
       "1   24   Anna\n",
       "2   35  Peter\n",
       "3   32  Linda"
      ]
     },
     "execution_count": 23,
     "metadata": {},
     "output_type": "execute_result"
    }
   ],
   "source": [
    "\n",
    "#Selecting Multiple Columns\n",
    "#To select multiple columns, you can pass a list of column names.\n",
    "\n",
    "# Selecting multiple columns\n",
    "df[['Age', 'Name']]\n",
    "\n"
   ]
  },
  {
   "cell_type": "code",
   "execution_count": 25,
   "metadata": {},
   "outputs": [
    {
     "data": {
      "text/plain": [
       "Name    John\n",
       "Age       28\n",
       "Name: 0, dtype: object"
      ]
     },
     "execution_count": 25,
     "metadata": {},
     "output_type": "execute_result"
    }
   ],
   "source": [
    "#Selecting Rows by Label (`loc`)\n",
    "#The `loc[]` method allows you to select rows (or subsets) by label or index.\n",
    "\n",
    "# Selecting rows by index label\n",
    "df.loc[0]\n",
    "\n",
    "\n"
   ]
  },
  {
   "cell_type": "code",
   "execution_count": 26,
   "metadata": {},
   "outputs": [
    {
     "data": {
      "text/html": [
       "<div>\n",
       "<style scoped>\n",
       "    .dataframe tbody tr th:only-of-type {\n",
       "        vertical-align: middle;\n",
       "    }\n",
       "\n",
       "    .dataframe tbody tr th {\n",
       "        vertical-align: top;\n",
       "    }\n",
       "\n",
       "    .dataframe thead th {\n",
       "        text-align: right;\n",
       "    }\n",
       "</style>\n",
       "<table border=\"1\" class=\"dataframe\">\n",
       "  <thead>\n",
       "    <tr style=\"text-align: right;\">\n",
       "      <th></th>\n",
       "      <th>Name</th>\n",
       "      <th>Age</th>\n",
       "    </tr>\n",
       "  </thead>\n",
       "  <tbody>\n",
       "    <tr>\n",
       "      <th>0</th>\n",
       "      <td>John</td>\n",
       "      <td>28</td>\n",
       "    </tr>\n",
       "    <tr>\n",
       "      <th>1</th>\n",
       "      <td>Anna</td>\n",
       "      <td>24</td>\n",
       "    </tr>\n",
       "    <tr>\n",
       "      <th>2</th>\n",
       "      <td>Peter</td>\n",
       "      <td>35</td>\n",
       "    </tr>\n",
       "    <tr>\n",
       "      <th>3</th>\n",
       "      <td>Linda</td>\n",
       "      <td>32</td>\n",
       "    </tr>\n",
       "  </tbody>\n",
       "</table>\n",
       "</div>"
      ],
      "text/plain": [
       "    Name  Age\n",
       "0   John   28\n",
       "1   Anna   24\n",
       "2  Peter   35\n",
       "3  Linda   32"
      ]
     },
     "execution_count": 26,
     "metadata": {},
     "output_type": "execute_result"
    }
   ],
   "source": [
    "# Selecting a range of rows\n",
    "df.loc[0:5]"
   ]
  },
  {
   "cell_type": "code",
   "execution_count": 27,
   "metadata": {},
   "outputs": [
    {
     "data": {
      "text/plain": [
       "Name    John\n",
       "Age       28\n",
       "Name: 0, dtype: object"
      ]
     },
     "execution_count": 27,
     "metadata": {},
     "output_type": "execute_result"
    }
   ],
   "source": [
    "\n",
    "# Selecting Rows by Index (`iloc`)\n",
    "# The `iloc[]` method allows you to select rows by index position (integer-based).\n",
    "\n",
    "# Selecting rows by position\n",
    "df.iloc[0]\n"
   ]
  },
  {
   "cell_type": "code",
   "execution_count": 28,
   "metadata": {},
   "outputs": [
    {
     "data": {
      "text/html": [
       "<div>\n",
       "<style scoped>\n",
       "    .dataframe tbody tr th:only-of-type {\n",
       "        vertical-align: middle;\n",
       "    }\n",
       "\n",
       "    .dataframe tbody tr th {\n",
       "        vertical-align: top;\n",
       "    }\n",
       "\n",
       "    .dataframe thead th {\n",
       "        text-align: right;\n",
       "    }\n",
       "</style>\n",
       "<table border=\"1\" class=\"dataframe\">\n",
       "  <thead>\n",
       "    <tr style=\"text-align: right;\">\n",
       "      <th></th>\n",
       "      <th>Name</th>\n",
       "      <th>Age</th>\n",
       "    </tr>\n",
       "  </thead>\n",
       "  <tbody>\n",
       "    <tr>\n",
       "      <th>0</th>\n",
       "      <td>John</td>\n",
       "      <td>28</td>\n",
       "    </tr>\n",
       "    <tr>\n",
       "      <th>1</th>\n",
       "      <td>Anna</td>\n",
       "      <td>24</td>\n",
       "    </tr>\n",
       "    <tr>\n",
       "      <th>2</th>\n",
       "      <td>Peter</td>\n",
       "      <td>35</td>\n",
       "    </tr>\n",
       "    <tr>\n",
       "      <th>3</th>\n",
       "      <td>Linda</td>\n",
       "      <td>32</td>\n",
       "    </tr>\n",
       "  </tbody>\n",
       "</table>\n",
       "</div>"
      ],
      "text/plain": [
       "    Name  Age\n",
       "0   John   28\n",
       "1   Anna   24\n",
       "2  Peter   35\n",
       "3  Linda   32"
      ]
     },
     "execution_count": 28,
     "metadata": {},
     "output_type": "execute_result"
    }
   ],
   "source": [
    "\n",
    "# Selecting a range of rows by position\n",
    "df.iloc[0:5]\n"
   ]
  },
  {
   "cell_type": "code",
   "execution_count": 29,
   "metadata": {},
   "outputs": [
    {
     "data": {
      "text/html": [
       "<div>\n",
       "<style scoped>\n",
       "    .dataframe tbody tr th:only-of-type {\n",
       "        vertical-align: middle;\n",
       "    }\n",
       "\n",
       "    .dataframe tbody tr th {\n",
       "        vertical-align: top;\n",
       "    }\n",
       "\n",
       "    .dataframe thead th {\n",
       "        text-align: right;\n",
       "    }\n",
       "</style>\n",
       "<table border=\"1\" class=\"dataframe\">\n",
       "  <thead>\n",
       "    <tr style=\"text-align: right;\">\n",
       "      <th></th>\n",
       "      <th>Name</th>\n",
       "      <th>Age</th>\n",
       "    </tr>\n",
       "  </thead>\n",
       "  <tbody>\n",
       "    <tr>\n",
       "      <th>2</th>\n",
       "      <td>Peter</td>\n",
       "      <td>35</td>\n",
       "    </tr>\n",
       "    <tr>\n",
       "      <th>3</th>\n",
       "      <td>Linda</td>\n",
       "      <td>32</td>\n",
       "    </tr>\n",
       "  </tbody>\n",
       "</table>\n",
       "</div>"
      ],
      "text/plain": [
       "    Name  Age\n",
       "2  Peter   35\n",
       "3  Linda   32"
      ]
     },
     "execution_count": 29,
     "metadata": {},
     "output_type": "execute_result"
    }
   ],
   "source": [
    "\n",
    "# Boolean Indexing\n",
    "# You can filter rows based on conditions using boolean indexing.\n",
    "\n",
    "# Selecting rows based on a condition\n",
    "df[df['Age'] > 30]\n",
    "\n"
   ]
  },
  {
   "cell_type": "code",
   "execution_count": 41,
   "metadata": {},
   "outputs": [
    {
     "name": "stdout",
     "output_type": "stream",
     "text": [
      "      Name\n",
      "Age       \n",
      "28    John\n",
      "24    Anna\n",
      "35   Peter\n",
      "32   Linda\n"
     ]
    }
   ],
   "source": [
    "# Setting and Resetting Index\n",
    "# You can set a column as the index or reset it back to default.\n",
    "\n",
    "# Set a column as the index\n",
    "df.set_index('Age', inplace=True)\n",
    "print(df)\n"
   ]
  },
  {
   "cell_type": "code",
   "execution_count": 42,
   "metadata": {},
   "outputs": [
    {
     "name": "stdout",
     "output_type": "stream",
     "text": [
      "   Age   Name\n",
      "0   28   John\n",
      "1   24   Anna\n",
      "2   35  Peter\n",
      "3   32  Linda\n"
     ]
    }
   ],
   "source": [
    "# Reset index\n",
    "df.reset_index(inplace=True)\n",
    "print(df)\n"
   ]
  },
  {
   "cell_type": "markdown",
   "metadata": {},
   "source": [
    "# 5. Handling Missing Data\n",
    "\n",
    "Missing data is common in real-world datasets, and Pandas provides several tools to handle it efficiently.\n",
    "\n",
    "## Detecting Missing Data\n",
    "\n",
    "You can use `isna()` or `isnull()` to detect missing values, which will return a DataFrame of Boolean values indicating `True` for missing data.\n",
    "\n"
   ]
  },
  {
   "cell_type": "code",
   "execution_count": 43,
   "metadata": {},
   "outputs": [
    {
     "name": "stdout",
     "output_type": "stream",
     "text": [
      "    Name   Age  Score\n",
      "0   John  28.0   85.0\n",
      "1   Anna   NaN   90.0\n",
      "2  Peter  35.0    NaN\n",
      "3  Linda  32.0   88.0\n"
     ]
    },
    {
     "data": {
      "text/plain": [
       "Name     0\n",
       "Age      1\n",
       "Score    1\n",
       "dtype: int64"
      ]
     },
     "execution_count": 43,
     "metadata": {},
     "output_type": "execute_result"
    }
   ],
   "source": [
    "# Create a DataFrame with missing values\n",
    "import pandas as pd\n",
    "import numpy as np\n",
    "\n",
    "data = {'Name': ['John', 'Anna', 'Peter', 'Linda'],\n",
    "        'Age': [28, np.nan, 35, 32],\n",
    "        'Score': [85, 90, np.nan, 88]}\n",
    "df = pd.DataFrame(data)\n",
    "print(df)\n",
    "\n",
    "# Detect missing values\n",
    "df.isna()\n",
    "\n",
    "# Count total missing values per column\n",
    "df.isna().sum()\n"
   ]
  },
  {
   "cell_type": "markdown",
   "metadata": {},
   "source": [
    "## Dropping Missing Data\n",
    "\n",
    "Use `dropna()` to remove rows or columns with missing values.\n",
    "\n"
   ]
  },
  {
   "cell_type": "code",
   "execution_count": 44,
   "metadata": {},
   "outputs": [
    {
     "data": {
      "text/html": [
       "<div>\n",
       "<style scoped>\n",
       "    .dataframe tbody tr th:only-of-type {\n",
       "        vertical-align: middle;\n",
       "    }\n",
       "\n",
       "    .dataframe tbody tr th {\n",
       "        vertical-align: top;\n",
       "    }\n",
       "\n",
       "    .dataframe thead th {\n",
       "        text-align: right;\n",
       "    }\n",
       "</style>\n",
       "<table border=\"1\" class=\"dataframe\">\n",
       "  <thead>\n",
       "    <tr style=\"text-align: right;\">\n",
       "      <th></th>\n",
       "      <th>Name</th>\n",
       "      <th>Age</th>\n",
       "      <th>Score</th>\n",
       "    </tr>\n",
       "  </thead>\n",
       "  <tbody>\n",
       "    <tr>\n",
       "      <th>0</th>\n",
       "      <td>John</td>\n",
       "      <td>28.0</td>\n",
       "      <td>85.0</td>\n",
       "    </tr>\n",
       "    <tr>\n",
       "      <th>3</th>\n",
       "      <td>Linda</td>\n",
       "      <td>32.0</td>\n",
       "      <td>88.0</td>\n",
       "    </tr>\n",
       "  </tbody>\n",
       "</table>\n",
       "</div>"
      ],
      "text/plain": [
       "    Name   Age  Score\n",
       "0   John  28.0   85.0\n",
       "3  Linda  32.0   88.0"
      ]
     },
     "execution_count": 44,
     "metadata": {},
     "output_type": "execute_result"
    }
   ],
   "source": [
    "# Drop rows with missing values\n",
    "df.dropna()"
   ]
  },
  {
   "cell_type": "code",
   "execution_count": 45,
   "metadata": {},
   "outputs": [
    {
     "data": {
      "text/html": [
       "<div>\n",
       "<style scoped>\n",
       "    .dataframe tbody tr th:only-of-type {\n",
       "        vertical-align: middle;\n",
       "    }\n",
       "\n",
       "    .dataframe tbody tr th {\n",
       "        vertical-align: top;\n",
       "    }\n",
       "\n",
       "    .dataframe thead th {\n",
       "        text-align: right;\n",
       "    }\n",
       "</style>\n",
       "<table border=\"1\" class=\"dataframe\">\n",
       "  <thead>\n",
       "    <tr style=\"text-align: right;\">\n",
       "      <th></th>\n",
       "      <th>Name</th>\n",
       "    </tr>\n",
       "  </thead>\n",
       "  <tbody>\n",
       "    <tr>\n",
       "      <th>0</th>\n",
       "      <td>John</td>\n",
       "    </tr>\n",
       "    <tr>\n",
       "      <th>1</th>\n",
       "      <td>Anna</td>\n",
       "    </tr>\n",
       "    <tr>\n",
       "      <th>2</th>\n",
       "      <td>Peter</td>\n",
       "    </tr>\n",
       "    <tr>\n",
       "      <th>3</th>\n",
       "      <td>Linda</td>\n",
       "    </tr>\n",
       "  </tbody>\n",
       "</table>\n",
       "</div>"
      ],
      "text/plain": [
       "    Name\n",
       "0   John\n",
       "1   Anna\n",
       "2  Peter\n",
       "3  Linda"
      ]
     },
     "execution_count": 45,
     "metadata": {},
     "output_type": "execute_result"
    }
   ],
   "source": [
    "# Drop columns with missing values\n",
    "df.dropna(axis=1)"
   ]
  },
  {
   "cell_type": "markdown",
   "metadata": {},
   "source": [
    "\n",
    "## Filling Missing Data\n",
    "\n",
    "Use `fillna()` to replace missing values with a specified value, or use forward/backward fill methods."
   ]
  },
  {
   "cell_type": "code",
   "execution_count": 46,
   "metadata": {},
   "outputs": [
    {
     "data": {
      "text/html": [
       "<div>\n",
       "<style scoped>\n",
       "    .dataframe tbody tr th:only-of-type {\n",
       "        vertical-align: middle;\n",
       "    }\n",
       "\n",
       "    .dataframe tbody tr th {\n",
       "        vertical-align: top;\n",
       "    }\n",
       "\n",
       "    .dataframe thead th {\n",
       "        text-align: right;\n",
       "    }\n",
       "</style>\n",
       "<table border=\"1\" class=\"dataframe\">\n",
       "  <thead>\n",
       "    <tr style=\"text-align: right;\">\n",
       "      <th></th>\n",
       "      <th>Name</th>\n",
       "      <th>Age</th>\n",
       "      <th>Score</th>\n",
       "    </tr>\n",
       "  </thead>\n",
       "  <tbody>\n",
       "    <tr>\n",
       "      <th>0</th>\n",
       "      <td>John</td>\n",
       "      <td>28.0</td>\n",
       "      <td>85.0</td>\n",
       "    </tr>\n",
       "    <tr>\n",
       "      <th>1</th>\n",
       "      <td>Anna</td>\n",
       "      <td>0.0</td>\n",
       "      <td>90.0</td>\n",
       "    </tr>\n",
       "    <tr>\n",
       "      <th>2</th>\n",
       "      <td>Peter</td>\n",
       "      <td>35.0</td>\n",
       "      <td>0.0</td>\n",
       "    </tr>\n",
       "    <tr>\n",
       "      <th>3</th>\n",
       "      <td>Linda</td>\n",
       "      <td>32.0</td>\n",
       "      <td>88.0</td>\n",
       "    </tr>\n",
       "  </tbody>\n",
       "</table>\n",
       "</div>"
      ],
      "text/plain": [
       "    Name   Age  Score\n",
       "0   John  28.0   85.0\n",
       "1   Anna   0.0   90.0\n",
       "2  Peter  35.0    0.0\n",
       "3  Linda  32.0   88.0"
      ]
     },
     "execution_count": 46,
     "metadata": {},
     "output_type": "execute_result"
    }
   ],
   "source": [
    "# Fill missing values with a specific value\n",
    "df.fillna(value=0)\n"
   ]
  },
  {
   "cell_type": "code",
   "execution_count": 47,
   "metadata": {},
   "outputs": [
    {
     "name": "stderr",
     "output_type": "stream",
     "text": [
      "/tmp/ipykernel_540509/3956994415.py:2: FutureWarning: DataFrame.fillna with 'method' is deprecated and will raise in a future version. Use obj.ffill() or obj.bfill() instead.\n",
      "  df.fillna(method='ffill')\n"
     ]
    },
    {
     "data": {
      "text/html": [
       "<div>\n",
       "<style scoped>\n",
       "    .dataframe tbody tr th:only-of-type {\n",
       "        vertical-align: middle;\n",
       "    }\n",
       "\n",
       "    .dataframe tbody tr th {\n",
       "        vertical-align: top;\n",
       "    }\n",
       "\n",
       "    .dataframe thead th {\n",
       "        text-align: right;\n",
       "    }\n",
       "</style>\n",
       "<table border=\"1\" class=\"dataframe\">\n",
       "  <thead>\n",
       "    <tr style=\"text-align: right;\">\n",
       "      <th></th>\n",
       "      <th>Name</th>\n",
       "      <th>Age</th>\n",
       "      <th>Score</th>\n",
       "    </tr>\n",
       "  </thead>\n",
       "  <tbody>\n",
       "    <tr>\n",
       "      <th>0</th>\n",
       "      <td>John</td>\n",
       "      <td>28.0</td>\n",
       "      <td>85.0</td>\n",
       "    </tr>\n",
       "    <tr>\n",
       "      <th>1</th>\n",
       "      <td>Anna</td>\n",
       "      <td>28.0</td>\n",
       "      <td>90.0</td>\n",
       "    </tr>\n",
       "    <tr>\n",
       "      <th>2</th>\n",
       "      <td>Peter</td>\n",
       "      <td>35.0</td>\n",
       "      <td>90.0</td>\n",
       "    </tr>\n",
       "    <tr>\n",
       "      <th>3</th>\n",
       "      <td>Linda</td>\n",
       "      <td>32.0</td>\n",
       "      <td>88.0</td>\n",
       "    </tr>\n",
       "  </tbody>\n",
       "</table>\n",
       "</div>"
      ],
      "text/plain": [
       "    Name   Age  Score\n",
       "0   John  28.0   85.0\n",
       "1   Anna  28.0   90.0\n",
       "2  Peter  35.0   90.0\n",
       "3  Linda  32.0   88.0"
      ]
     },
     "execution_count": 47,
     "metadata": {},
     "output_type": "execute_result"
    }
   ],
   "source": [
    "# Forward fill (fill missing values with the previous row's value)\n",
    "df.fillna(method='ffill')\n"
   ]
  },
  {
   "cell_type": "code",
   "execution_count": 48,
   "metadata": {},
   "outputs": [
    {
     "name": "stderr",
     "output_type": "stream",
     "text": [
      "/tmp/ipykernel_540509/332550347.py:2: FutureWarning: DataFrame.fillna with 'method' is deprecated and will raise in a future version. Use obj.ffill() or obj.bfill() instead.\n",
      "  df.fillna(method='bfill')\n"
     ]
    },
    {
     "data": {
      "text/html": [
       "<div>\n",
       "<style scoped>\n",
       "    .dataframe tbody tr th:only-of-type {\n",
       "        vertical-align: middle;\n",
       "    }\n",
       "\n",
       "    .dataframe tbody tr th {\n",
       "        vertical-align: top;\n",
       "    }\n",
       "\n",
       "    .dataframe thead th {\n",
       "        text-align: right;\n",
       "    }\n",
       "</style>\n",
       "<table border=\"1\" class=\"dataframe\">\n",
       "  <thead>\n",
       "    <tr style=\"text-align: right;\">\n",
       "      <th></th>\n",
       "      <th>Name</th>\n",
       "      <th>Age</th>\n",
       "      <th>Score</th>\n",
       "    </tr>\n",
       "  </thead>\n",
       "  <tbody>\n",
       "    <tr>\n",
       "      <th>0</th>\n",
       "      <td>John</td>\n",
       "      <td>28.0</td>\n",
       "      <td>85.0</td>\n",
       "    </tr>\n",
       "    <tr>\n",
       "      <th>1</th>\n",
       "      <td>Anna</td>\n",
       "      <td>35.0</td>\n",
       "      <td>90.0</td>\n",
       "    </tr>\n",
       "    <tr>\n",
       "      <th>2</th>\n",
       "      <td>Peter</td>\n",
       "      <td>35.0</td>\n",
       "      <td>88.0</td>\n",
       "    </tr>\n",
       "    <tr>\n",
       "      <th>3</th>\n",
       "      <td>Linda</td>\n",
       "      <td>32.0</td>\n",
       "      <td>88.0</td>\n",
       "    </tr>\n",
       "  </tbody>\n",
       "</table>\n",
       "</div>"
      ],
      "text/plain": [
       "    Name   Age  Score\n",
       "0   John  28.0   85.0\n",
       "1   Anna  35.0   90.0\n",
       "2  Peter  35.0   88.0\n",
       "3  Linda  32.0   88.0"
      ]
     },
     "execution_count": 48,
     "metadata": {},
     "output_type": "execute_result"
    }
   ],
   "source": [
    "\n",
    "# Backward fill (fill missing values with the next row's value)\n",
    "df.fillna(method='bfill')\n"
   ]
  },
  {
   "cell_type": "markdown",
   "metadata": {},
   "source": [
    "\n",
    "## Replacing Missing Data\n",
    "\n",
    "Use `replace()` to replace specific values (including `NaN` values) in the DataFrame."
   ]
  },
  {
   "cell_type": "code",
   "execution_count": 49,
   "metadata": {},
   "outputs": [
    {
     "data": {
      "text/html": [
       "<div>\n",
       "<style scoped>\n",
       "    .dataframe tbody tr th:only-of-type {\n",
       "        vertical-align: middle;\n",
       "    }\n",
       "\n",
       "    .dataframe tbody tr th {\n",
       "        vertical-align: top;\n",
       "    }\n",
       "\n",
       "    .dataframe thead th {\n",
       "        text-align: right;\n",
       "    }\n",
       "</style>\n",
       "<table border=\"1\" class=\"dataframe\">\n",
       "  <thead>\n",
       "    <tr style=\"text-align: right;\">\n",
       "      <th></th>\n",
       "      <th>Name</th>\n",
       "      <th>Age</th>\n",
       "      <th>Score</th>\n",
       "    </tr>\n",
       "  </thead>\n",
       "  <tbody>\n",
       "    <tr>\n",
       "      <th>0</th>\n",
       "      <td>John</td>\n",
       "      <td>28.0</td>\n",
       "      <td>85.0</td>\n",
       "    </tr>\n",
       "    <tr>\n",
       "      <th>1</th>\n",
       "      <td>Anna</td>\n",
       "      <td>0.0</td>\n",
       "      <td>90.0</td>\n",
       "    </tr>\n",
       "    <tr>\n",
       "      <th>2</th>\n",
       "      <td>Peter</td>\n",
       "      <td>35.0</td>\n",
       "      <td>0.0</td>\n",
       "    </tr>\n",
       "    <tr>\n",
       "      <th>3</th>\n",
       "      <td>Linda</td>\n",
       "      <td>32.0</td>\n",
       "      <td>88.0</td>\n",
       "    </tr>\n",
       "  </tbody>\n",
       "</table>\n",
       "</div>"
      ],
      "text/plain": [
       "    Name   Age  Score\n",
       "0   John  28.0   85.0\n",
       "1   Anna   0.0   90.0\n",
       "2  Peter  35.0    0.0\n",
       "3  Linda  32.0   88.0"
      ]
     },
     "execution_count": 49,
     "metadata": {},
     "output_type": "execute_result"
    }
   ],
   "source": [
    "\n",
    "# Replace NaN values with a specific value\n",
    "df.replace(to_replace=np.nan, value=0)"
   ]
  },
  {
   "cell_type": "markdown",
   "metadata": {},
   "source": [
    "# 6. Data Manipulation\n",
    "\n",
    "Manipulating data is a fundamental part of working with Pandas. You can add, drop, or modify columns and rows to reshape the DataFrame as needed.\n",
    "\n"
   ]
  },
  {
   "cell_type": "code",
   "execution_count": 50,
   "metadata": {},
   "outputs": [
    {
     "name": "stdout",
     "output_type": "stream",
     "text": [
      "    Name  Age  Score\n",
      "0   John   28     85\n",
      "1   Anna   24     90\n",
      "2  Peter   35     75\n",
      "3  Linda   32     88\n"
     ]
    }
   ],
   "source": [
    "## Creating a New DataFrame for Manipulation\n",
    "\n",
    "# Let's create a sample DataFrame:\n",
    "\n",
    "# Create a DataFrame\n",
    "data = {'Name': ['John', 'Anna', 'Peter', 'Linda'],\n",
    "        'Age': [28, 24, 35, 32],\n",
    "        'Score': [85, 90, 75, 88]}\n",
    "df = pd.DataFrame(data)\n",
    "print(df)\n"
   ]
  },
  {
   "cell_type": "markdown",
   "metadata": {},
   "source": [
    "\n",
    "## Adding New Columns\n",
    "\n",
    "You can add a new column to the DataFrame by assigning a new value.\n"
   ]
  },
  {
   "cell_type": "code",
   "execution_count": 51,
   "metadata": {},
   "outputs": [
    {
     "name": "stdout",
     "output_type": "stream",
     "text": [
      "    Name  Age  Score  Passed\n",
      "0   John   28     85    True\n",
      "1   Anna   24     90    True\n",
      "2  Peter   35     75   False\n",
      "3  Linda   32     88    True\n"
     ]
    }
   ],
   "source": [
    "\n",
    "# Add a new column\n",
    "df['Passed'] = df['Score'] >= 80\n",
    "print(df)\n"
   ]
  },
  {
   "cell_type": "markdown",
   "metadata": {},
   "source": [
    "\n",
    "## Dropping Columns\n",
    "\n",
    "To remove a column, you can use the `drop()` method with `axis=1`.\n"
   ]
  },
  {
   "cell_type": "code",
   "execution_count": 52,
   "metadata": {},
   "outputs": [
    {
     "name": "stdout",
     "output_type": "stream",
     "text": [
      "    Name  Age  Score\n",
      "0   John   28     85\n",
      "1   Anna   24     90\n",
      "2  Peter   35     75\n",
      "3  Linda   32     88\n"
     ]
    }
   ],
   "source": [
    "\n",
    "# Drop a column\n",
    "df = df.drop('Passed', axis=1)\n",
    "print(df)\n"
   ]
  },
  {
   "cell_type": "markdown",
   "metadata": {},
   "source": [
    "\n",
    "## Renaming Columns\n",
    "\n",
    "You can rename columns using the `rename()` function.\n"
   ]
  },
  {
   "cell_type": "code",
   "execution_count": 53,
   "metadata": {},
   "outputs": [
    {
     "name": "stdout",
     "output_type": "stream",
     "text": [
      "    Name  Age  Exam Score\n",
      "0   John   28          85\n",
      "1   Anna   24          90\n",
      "2  Peter   35          75\n",
      "3  Linda   32          88\n"
     ]
    }
   ],
   "source": [
    "\n",
    "# Rename columns\n",
    "df = df.rename(columns={'Score': 'Exam Score'})\n",
    "print(df)\n"
   ]
  },
  {
   "cell_type": "markdown",
   "metadata": {},
   "source": [
    "\n",
    "## Modifying Data in Columns\n",
    "\n",
    "You can apply functions to modify data within columns.\n"
   ]
  },
  {
   "cell_type": "code",
   "execution_count": 54,
   "metadata": {},
   "outputs": [
    {
     "name": "stdout",
     "output_type": "stream",
     "text": [
      "    Name  Age  Exam Score\n",
      "0   John   29          85\n",
      "1   Anna   25          90\n",
      "2  Peter   36          75\n",
      "3  Linda   33          88\n"
     ]
    }
   ],
   "source": [
    "\n",
    "# Modify the 'Age' column by adding 1 to each value\n",
    "df['Age'] = df['Age'] + 1\n",
    "print(df)\n"
   ]
  },
  {
   "cell_type": "markdown",
   "metadata": {},
   "source": [
    "\n",
    "## Inserting a New Column at a Specific Position\n",
    "\n",
    "You can use the `insert()` method to add a new column at a specific location.\n"
   ]
  },
  {
   "cell_type": "code",
   "execution_count": 55,
   "metadata": {},
   "outputs": [
    {
     "name": "stdout",
     "output_type": "stream",
     "text": [
      "    Name Grade  Age  Exam Score\n",
      "0   John     B   29          85\n",
      "1   Anna     A   25          90\n",
      "2  Peter     C   36          75\n",
      "3  Linda     B   33          88\n"
     ]
    }
   ],
   "source": [
    "\n",
    "# Insert a new column at the second position\n",
    "df.insert(1, 'Grade', ['B', 'A', 'C', 'B'])\n",
    "print(df)"
   ]
  },
  {
   "cell_type": "markdown",
   "metadata": {},
   "source": [
    "# 7. Data Cleaning\n",
    "\n",
    "Data cleaning is an essential process to ensure that your dataset is well-structured and free of inconsistencies. This includes removing duplicates, fixing data types, and handling invalid values.\n"
   ]
  },
  {
   "cell_type": "code",
   "execution_count": 4,
   "metadata": {},
   "outputs": [
    {
     "name": "stdout",
     "output_type": "stream",
     "text": [
      "    Name   Age  Score\n",
      "0   John    28   85.0\n",
      "1   Anna    24   90.0\n",
      "2   Anna    24   90.0\n",
      "3  Linda    32   88.0\n",
      "4  Peter  None    NaN\n"
     ]
    }
   ],
   "source": [
    "## Creating a New DataFrame for Data Cleaning\n",
    "\n",
    "# Let's create a sample DataFrame with some messy data:\n",
    "\n",
    "import numpy as np\n",
    "import pandas as pd\n",
    "\n",
    "# Create a DataFrame with messy data\n",
    "data = {'Name': ['John', 'Anna', 'Anna', 'Linda', 'Peter'],\n",
    "        'Age': [28, 24, 24, '32', None],\n",
    "        'Score': [85, 90, 90, 88, np.nan]}\n",
    "df = pd.DataFrame(data)\n",
    "print(df)"
   ]
  },
  {
   "cell_type": "code",
   "execution_count": 5,
   "metadata": {},
   "outputs": [
    {
     "name": "stdout",
     "output_type": "stream",
     "text": [
      "    Name   Age  Score\n",
      "0   John    28   85.0\n",
      "1   Anna    24   90.0\n",
      "3  Linda    32   88.0\n",
      "4  Peter  None    NaN\n"
     ]
    }
   ],
   "source": [
    "## Removing Duplicates\n",
    "\n",
    "# Use the `drop_duplicates()` function to remove duplicate rows.\n",
    "\n",
    "# Remove duplicate rows\n",
    "df = df.drop_duplicates()\n",
    "print(df)\n",
    "\n"
   ]
  },
  {
   "cell_type": "code",
   "execution_count": 6,
   "metadata": {},
   "outputs": [
    {
     "name": "stdout",
     "output_type": "stream",
     "text": [
      "    Name   Age  Score\n",
      "0   John    28   85.0\n",
      "1   Anna    24   90.0\n",
      "3  Linda    32   88.0\n",
      "4  Peter  None    0.0\n"
     ]
    }
   ],
   "source": [
    "## Handling Missing Values\n",
    "\n",
    "# Fill or remove missing values using `fillna()` or `dropna()` as needed.\n",
    "\n",
    "# Fill missing values with a default\n",
    "df['Score'] = df['Score'].fillna(0)\n",
    "print(df)"
   ]
  },
  {
   "cell_type": "code",
   "execution_count": 7,
   "metadata": {},
   "outputs": [
    {
     "name": "stdout",
     "output_type": "stream",
     "text": [
      "    Name Age  Score\n",
      "0   John  28   85.0\n",
      "1   Anna  24   90.0\n",
      "3  Linda  32   88.0\n"
     ]
    }
   ],
   "source": [
    "# Drop rows where the 'Age' is missing\n",
    "df = df.dropna(subset=['Age'])\n",
    "print(df)"
   ]
  },
  {
   "cell_type": "code",
   "execution_count": 8,
   "metadata": {},
   "outputs": [
    {
     "name": "stdout",
     "output_type": "stream",
     "text": [
      "    Name  Age  Score\n",
      "0   John   28   85.0\n",
      "1   Anna   24   90.0\n",
      "3  Linda   32   88.0\n"
     ]
    }
   ],
   "source": [
    "## Converting Data Types\n",
    "\n",
    "# You can convert columns to the correct data types using `astype()`.\n",
    "\n",
    "# Convert 'Age' column to numeric\n",
    "df['Age'] = pd.to_numeric(df['Age'])\n",
    "print(df)"
   ]
  },
  {
   "cell_type": "code",
   "execution_count": 9,
   "metadata": {},
   "outputs": [
    {
     "name": "stdout",
     "output_type": "stream",
     "text": [
      "    Name  Age  Score\n",
      "0   John   28   85.0\n",
      "1   Anna   24   90.0\n",
      "3  Linda   32   88.0\n"
     ]
    }
   ],
   "source": [
    "## Removing Unwanted Characters or Patterns\n",
    "\n",
    "# Use the `str.replace()` method to clean up string columns.\n",
    "\n",
    "# Remove unwanted characters or spaces from the 'Name' column\n",
    "df['Name'] = df['Name'].str.strip()\n",
    "print(df)"
   ]
  },
  {
   "cell_type": "markdown",
   "metadata": {},
   "source": [
    "# 8. Filtering and Grouping Data\n",
    "\n",
    "Filtering and grouping data in Pandas allows you to easily extract specific subsets of data and perform aggregation operations on groups.\n"
   ]
  },
  {
   "cell_type": "code",
   "execution_count": 10,
   "metadata": {},
   "outputs": [
    {
     "name": "stdout",
     "output_type": "stream",
     "text": [
      "    Name  Age  Score\n",
      "0   John   28     85\n",
      "1   Anna   24     90\n",
      "2  Peter   35     75\n",
      "3  Linda   32     88\n",
      "4   John   28     95\n",
      "5   Anna   24     90\n"
     ]
    }
   ],
   "source": [
    "## Creating a New DataFrame for Filtering and Grouping\n",
    "\n",
    "# Let's create a sample DataFrame:\n",
    "\n",
    "# Create a DataFrame\n",
    "data = {'Name': ['John', 'Anna', 'Peter', 'Linda', 'John', 'Anna'],\n",
    "        'Age': [28, 24, 35, 32, 28, 24],\n",
    "        'Score': [85, 90, 75, 88, 95, 90]}\n",
    "df = pd.DataFrame(data)\n",
    "print(df)\n"
   ]
  },
  {
   "cell_type": "code",
   "execution_count": 11,
   "metadata": {},
   "outputs": [
    {
     "name": "stdout",
     "output_type": "stream",
     "text": [
      "    Name  Age  Score\n",
      "0   John   28     85\n",
      "1   Anna   24     90\n",
      "3  Linda   32     88\n",
      "4   John   28     95\n",
      "5   Anna   24     90\n"
     ]
    }
   ],
   "source": [
    "## Filtering Rows Based on Conditions\n",
    "\n",
    "# You can filter rows by applying conditions to the DataFrame.\n",
    "\n",
    "# Filter rows where 'Score' is greater than 80\n",
    "filtered_df = df[df['Score'] > 80]\n",
    "print(filtered_df)\n"
   ]
  },
  {
   "cell_type": "code",
   "execution_count": 12,
   "metadata": {},
   "outputs": [
    {
     "name": "stdout",
     "output_type": "stream",
     "text": [
      "   Name  Age  Score\n",
      "0  John   28     85\n",
      "4  John   28     95\n"
     ]
    }
   ],
   "source": [
    "\n",
    "# Filter rows where 'Name' is 'John'\n",
    "john_df = df[df['Name'] == 'John']\n",
    "print(john_df)\n"
   ]
  },
  {
   "cell_type": "code",
   "execution_count": 13,
   "metadata": {},
   "outputs": [
    {
     "name": "stdout",
     "output_type": "stream",
     "text": [
      "Name\n",
      "Anna     90.0\n",
      "John     90.0\n",
      "Linda    88.0\n",
      "Peter    75.0\n",
      "Name: Score, dtype: float64\n"
     ]
    }
   ],
   "source": [
    "## Grouping Data by Column Values\n",
    "\n",
    "# You can group data using the `groupby()` method, which allows for splitting the data into groups and performing aggregate operations.\n",
    "\n",
    "# Group by 'Name' and calculate the average 'Score'\n",
    "grouped_df = df.groupby('Name')['Score'].mean()\n",
    "print(grouped_df)\n"
   ]
  },
  {
   "cell_type": "code",
   "execution_count": 14,
   "metadata": {},
   "outputs": [
    {
     "name": "stdout",
     "output_type": "stream",
     "text": [
      "Name\n",
      "Anna     180\n",
      "John     180\n",
      "Linda     88\n",
      "Peter     75\n",
      "Name: Score, dtype: int64\n"
     ]
    }
   ],
   "source": [
    "\n",
    "## Aggregating Data\n",
    "\n",
    "# You can use aggregation functions like `mean()`, `sum()`, `count()`, etc., on groups of data.\n",
    "\n",
    "# Group by 'Name' and calculate the sum of 'Score'\n",
    "grouped_sum = df.groupby('Name')['Score'].sum()\n",
    "print(grouped_sum)\n"
   ]
  },
  {
   "cell_type": "code",
   "execution_count": 15,
   "metadata": {},
   "outputs": [
    {
     "name": "stdout",
     "output_type": "stream",
     "text": [
      "       sum  count\n",
      "Name             \n",
      "Anna   180      2\n",
      "John   180      2\n",
      "Linda   88      1\n",
      "Peter   75      1\n"
     ]
    }
   ],
   "source": [
    "\n",
    "# Group by 'Name' and get both sum and count of 'Score'\n",
    "grouped_multi = df.groupby('Name')['Score'].agg(['sum', 'count'])\n",
    "print(grouped_multi)"
   ]
  },
  {
   "cell_type": "markdown",
   "metadata": {},
   "source": [
    "# 9. Merging and Concatenating DataFrames\n",
    "\n",
    "Merging and concatenating DataFrames allows you to combine data from multiple sources, which is essential for joining datasets in data analysis.\n"
   ]
  },
  {
   "cell_type": "code",
   "execution_count": 16,
   "metadata": {},
   "outputs": [
    {
     "name": "stdout",
     "output_type": "stream",
     "text": [
      "    Name  Age\n",
      "0   John   28\n",
      "1   Anna   24\n",
      "2  Peter   35\n",
      "3  Linda   32\n",
      "    Name  Score\n",
      "0   John     85\n",
      "1   Anna     90\n",
      "2  Peter     75\n",
      "3  Linda     88\n"
     ]
    }
   ],
   "source": [
    "## Creating New DataFrames for Merging and Concatenation\n",
    "\n",
    "# Let's create two sample DataFrames:\n",
    "\n",
    "# Create first DataFrame\n",
    "data1 = {'Name': ['John', 'Anna', 'Peter', 'Linda'],\n",
    "         'Age': [28, 24, 35, 32]}\n",
    "df1 = pd.DataFrame(data1)\n",
    "print(df1)\n",
    "\n",
    "# Create second DataFrame\n",
    "data2 = {'Name': ['John', 'Anna', 'Peter', 'Linda'],\n",
    "         'Score': [85, 90, 75, 88]}\n",
    "df2 = pd.DataFrame(data2)\n",
    "print(df2)\n"
   ]
  },
  {
   "cell_type": "code",
   "execution_count": 17,
   "metadata": {},
   "outputs": [
    {
     "name": "stdout",
     "output_type": "stream",
     "text": [
      "    Name  Age  Score\n",
      "0   John   28     85\n",
      "1   Anna   24     90\n",
      "2  Peter   35     75\n",
      "3  Linda   32     88\n"
     ]
    }
   ],
   "source": [
    "\n",
    "## Merging DataFrames\n",
    "\n",
    "# You can merge two DataFrames on a common column using `merge()`.\n",
    "\n",
    "# Merge DataFrames on the 'Name' column\n",
    "merged_df = pd.merge(df1, df2, on='Name')\n",
    "print(merged_df)\n"
   ]
  },
  {
   "cell_type": "code",
   "execution_count": 18,
   "metadata": {},
   "outputs": [
    {
     "name": "stdout",
     "output_type": "stream",
     "text": [
      "    Name  Age  Score\n",
      "0   Anna   24     90\n",
      "1   John   28     85\n",
      "2  Linda   32     88\n",
      "3  Peter   35     75\n"
     ]
    }
   ],
   "source": [
    "\n",
    "# You can also perform different types of joins (inner, outer, left, right) by specifying the `how` parameter.\n",
    "\n",
    "# Perform an outer join\n",
    "outer_join_df = pd.merge(df1, df2, on='Name', how='outer')\n",
    "print(outer_join_df)\n"
   ]
  },
  {
   "cell_type": "code",
   "execution_count": 19,
   "metadata": {},
   "outputs": [
    {
     "name": "stdout",
     "output_type": "stream",
     "text": [
      "    Name   Age  Score\n",
      "0   John  28.0    NaN\n",
      "1   Anna  24.0    NaN\n",
      "2  Peter  35.0    NaN\n",
      "3  Linda  32.0    NaN\n",
      "0   John   NaN   85.0\n",
      "1   Anna   NaN   90.0\n",
      "2  Peter   NaN   75.0\n",
      "3  Linda   NaN   88.0\n"
     ]
    }
   ],
   "source": [
    "\n",
    "## Concatenating DataFrames\n",
    "\n",
    "# Concatenating allows you to stack DataFrames vertically or horizontally using `concat()`.\n",
    "\n",
    "# Concatenate DataFrames vertically (stack rows)\n",
    "concat_df = pd.concat([df1, df2], axis=0)\n",
    "print(concat_df)\n"
   ]
  },
  {
   "cell_type": "code",
   "execution_count": 20,
   "metadata": {},
   "outputs": [
    {
     "name": "stdout",
     "output_type": "stream",
     "text": [
      "    Name  Age   Name  Score\n",
      "0   John   28   John     85\n",
      "1   Anna   24   Anna     90\n",
      "2  Peter   35  Peter     75\n",
      "3  Linda   32  Linda     88\n"
     ]
    }
   ],
   "source": [
    "\n",
    "# Concatenate DataFrames horizontally (add columns)\n",
    "concat_horizontal_df = pd.concat([df1, df2], axis=1)\n",
    "print(concat_horizontal_df)\n"
   ]
  },
  {
   "cell_type": "markdown",
   "metadata": {},
   "source": [
    "# 10. Handling Dates and Times\n",
    "\n",
    "Pandas provides powerful tools for handling time series data, converting between different date formats, and performing operations on dates.\n"
   ]
  },
  {
   "cell_type": "code",
   "execution_count": 21,
   "metadata": {},
   "outputs": [
    {
     "name": "stdout",
     "output_type": "stream",
     "text": [
      "    Name   Join Date\n",
      "0   John  2023-01-01\n",
      "1   Anna  2022-12-15\n",
      "2  Peter  2023-03-10\n",
      "3  Linda  2021-07-20\n"
     ]
    }
   ],
   "source": [
    "\n",
    "## Creating a New DataFrame with Dates\n",
    "\n",
    "# Let's create a sample DataFrame with date information:\n",
    "\n",
    "# Create a DataFrame with date information\n",
    "data = {'Name': ['John', 'Anna', 'Peter', 'Linda'],\n",
    "        'Join Date': ['2023-01-01', '2022-12-15', '2023-03-10', '2021-07-20']}\n",
    "df = pd.DataFrame(data)\n",
    "print(df)\n"
   ]
  },
  {
   "cell_type": "code",
   "execution_count": 22,
   "metadata": {},
   "outputs": [
    {
     "name": "stdout",
     "output_type": "stream",
     "text": [
      "    Name  Join Date\n",
      "0   John 2023-01-01\n",
      "1   Anna 2022-12-15\n",
      "2  Peter 2023-03-10\n",
      "3  Linda 2021-07-20\n"
     ]
    }
   ],
   "source": [
    "\n",
    "## Converting Strings to DateTime\n",
    "\n",
    "# Use `pd.to_datetime()` to convert string representations of dates into Pandas DateTime objects.\n",
    "\n",
    "# Convert 'Join Date' to datetime\n",
    "df['Join Date'] = pd.to_datetime(df['Join Date'])\n",
    "print(df)\n"
   ]
  },
  {
   "cell_type": "code",
   "execution_count": 23,
   "metadata": {},
   "outputs": [
    {
     "name": "stdout",
     "output_type": "stream",
     "text": [
      "    Name  Join Date  Year\n",
      "0   John 2023-01-01  2023\n",
      "1   Anna 2022-12-15  2022\n",
      "2  Peter 2023-03-10  2023\n",
      "3  Linda 2021-07-20  2021\n",
      "    Name  Join Date  Year  Month\n",
      "0   John 2023-01-01  2023      1\n",
      "1   Anna 2022-12-15  2022     12\n",
      "2  Peter 2023-03-10  2023      3\n",
      "3  Linda 2021-07-20  2021      7\n",
      "    Name  Join Date  Year  Month  Day\n",
      "0   John 2023-01-01  2023      1    1\n",
      "1   Anna 2022-12-15  2022     12   15\n",
      "2  Peter 2023-03-10  2023      3   10\n",
      "3  Linda 2021-07-20  2021      7   20\n"
     ]
    }
   ],
   "source": [
    "\n",
    "## Extracting Year, Month, Day, etc.\n",
    "\n",
    "# Once you have a DateTime column, you can easily extract various components like the year, month, or day.\n",
    "\n",
    "# Extract the year from 'Join Date'\n",
    "df['Year'] = df['Join Date'].dt.year\n",
    "print(df)\n",
    "\n",
    "# Extract the month from 'Join Date'\n",
    "df['Month'] = df['Join Date'].dt.month\n",
    "print(df)\n",
    "\n",
    "# Extract the day from 'Join Date'\n",
    "df['Day'] = df['Join Date'].dt.day\n",
    "print(df)\n"
   ]
  },
  {
   "cell_type": "code",
   "execution_count": 24,
   "metadata": {},
   "outputs": [
    {
     "name": "stdout",
     "output_type": "stream",
     "text": [
      "DatetimeIndex(['2023-01-01', '2023-01-02', '2023-01-03', '2023-01-04',\n",
      "               '2023-01-05', '2023-01-06', '2023-01-07', '2023-01-08',\n",
      "               '2023-01-09', '2023-01-10'],\n",
      "              dtype='datetime64[ns]', freq='D')\n",
      "DatetimeIndex(['2023-01-31', '2023-02-28', '2023-03-31', '2023-04-30',\n",
      "               '2023-05-31', '2023-06-30'],\n",
      "              dtype='datetime64[ns]', freq='ME')\n"
     ]
    },
    {
     "name": "stderr",
     "output_type": "stream",
     "text": [
      "/tmp/ipykernel_577842/2855595625.py:10: FutureWarning: 'M' is deprecated and will be removed in a future version, please use 'ME' instead.\n",
      "  monthly_range = pd.date_range(start='2023-01-01', periods=6, freq='M')\n"
     ]
    }
   ],
   "source": [
    "\n",
    "## Creating Date Ranges\n",
    "\n",
    "# Pandas provides the `pd.date_range()` function to generate sequences of dates.\n",
    "\n",
    "# Create a date range with daily frequency\n",
    "date_range = pd.date_range(start='2023-01-01', end='2023-01-10', freq='D')\n",
    "print(date_range)\n",
    "\n",
    "# Create a date range with monthly frequency\n",
    "monthly_range = pd.date_range(start='2023-01-01', periods=6, freq='M')\n",
    "print(monthly_range)\n",
    "\n"
   ]
  },
  {
   "cell_type": "code",
   "execution_count": 25,
   "metadata": {},
   "outputs": [
    {
     "name": "stdout",
     "output_type": "stream",
     "text": [
      "    Name  Join Date  Year  Month  Day  Days Since Join\n",
      "0   John 2023-01-01  2023      1    1              643\n",
      "1   Anna 2022-12-15  2022     12   15              660\n",
      "2  Peter 2023-03-10  2023      3   10              575\n",
      "3  Linda 2021-07-20  2021      7   20             1173\n"
     ]
    }
   ],
   "source": [
    "## Working with Time Deltas\n",
    "\n",
    "# You can calculate differences between dates using the `timedelta` functionality.\n",
    "\n",
    "# Calculate the difference between 'Join Date' and today\n",
    "df['Days Since Join'] = (pd.Timestamp.today() - df['Join Date']).dt.days\n",
    "print(df)\n"
   ]
  },
  {
   "cell_type": "markdown",
   "metadata": {},
   "source": [
    "# 11. Pivot Tables and Crosstabs\n",
    "\n",
    "Pivot tables and crosstabs are powerful tools in Pandas for summarizing data, especially when you need to aggregate or reshape your data.\n"
   ]
  },
  {
   "cell_type": "code",
   "execution_count": 26,
   "metadata": {},
   "outputs": [
    {
     "name": "stdout",
     "output_type": "stream",
     "text": [
      "    Name  Age  Score Passed\n",
      "0   John   28     85    Yes\n",
      "1   Anna   24     90    Yes\n",
      "2  Peter   35     75     No\n",
      "3  Linda   32     88    Yes\n",
      "4   John   28     95    Yes\n",
      "5   Anna   24     90    Yes\n"
     ]
    }
   ],
   "source": [
    "## Creating a New DataFrame for Pivot Tables and Crosstabs\n",
    "\n",
    "# Create a DataFrame\n",
    "data = {'Name': ['John', 'Anna', 'Peter', 'Linda', 'John', 'Anna'],\n",
    "        'Age': [28, 24, 35, 32, 28, 24],\n",
    "        'Score': [85, 90, 75, 88, 95, 90],\n",
    "        'Passed': ['Yes', 'Yes', 'No', 'Yes', 'Yes', 'Yes']}\n",
    "df = pd.DataFrame(data)\n",
    "print(df)\n"
   ]
  },
  {
   "cell_type": "code",
   "execution_count": 27,
   "metadata": {},
   "outputs": [
    {
     "name": "stdout",
     "output_type": "stream",
     "text": [
      "Passed    No   Yes\n",
      "Name              \n",
      "Anna     NaN  90.0\n",
      "John     NaN  90.0\n",
      "Linda    NaN  88.0\n",
      "Peter   75.0   NaN\n"
     ]
    }
   ],
   "source": [
    "## Creating a Pivot Table\n",
    "\n",
    "# You can create a pivot table using the `pivot_table()` function to aggregate data by specified rows and columns.\n",
    "\n",
    "# Create a pivot table to get average score by 'Name' and 'Passed'\n",
    "pivot_table = df.pivot_table(values='Score', index='Name', columns='Passed', aggfunc='mean')\n",
    "print(pivot_table)\n"
   ]
  },
  {
   "cell_type": "code",
   "execution_count": 28,
   "metadata": {},
   "outputs": [
    {
     "name": "stdout",
     "output_type": "stream",
     "text": [
      "Passed  No  Yes\n",
      "Name           \n",
      "Anna     0    2\n",
      "John     0    2\n",
      "Linda    0    1\n",
      "Peter    1    0\n"
     ]
    }
   ],
   "source": [
    "## Crosstabs for Frequency Analysis\n",
    "\n",
    "# Crosstabs are useful for counting the frequency of different combinations of categorical variables. You can use the `crosstab()` function.\n",
    "\n",
    "# Create a crosstab to count occurrences of 'Passed' by 'Name'\n",
    "crosstab = pd.crosstab(df['Name'], df['Passed'])\n",
    "print(crosstab)\n"
   ]
  },
  {
   "cell_type": "code",
   "execution_count": 29,
   "metadata": {},
   "outputs": [
    {
     "name": "stdout",
     "output_type": "stream",
     "text": [
      "       mean   sum count\n",
      "      Score Score Score\n",
      "Name                   \n",
      "Anna   90.0   180     2\n",
      "John   90.0   180     2\n",
      "Linda  88.0    88     1\n",
      "Peter  75.0    75     1\n"
     ]
    }
   ],
   "source": [
    "## Grouping with Multiple Aggregations in Pivot Tables\n",
    "\n",
    "# You can also use multiple aggregation functions with a pivot table to perform more complex summaries.\n",
    "\n",
    "# Create a pivot table with multiple aggregation functions\n",
    "pivot_table_multi = df.pivot_table(values='Score', index='Name', aggfunc=['mean', 'sum', 'count'])\n",
    "print(pivot_table_multi)\n"
   ]
  },
  {
   "cell_type": "markdown",
   "metadata": {},
   "source": [
    "# 12. Working with Large DataFrames\n",
    "\n",
    "When dealing with large datasets, it’s important to optimize memory usage and process data efficiently. Pandas provides several tools to handle large DataFrames.\n"
   ]
  },
  {
   "cell_type": "code",
   "execution_count": 30,
   "metadata": {},
   "outputs": [
    {
     "name": "stdout",
     "output_type": "stream",
     "text": [
      "    Name  Age  Score\n",
      "0  Peter   35     75\n",
      "1   John   28     85\n",
      "2  Linda   32     88\n",
      "3   Anna   24     90\n",
      "4  Peter   35     75\n"
     ]
    }
   ],
   "source": [
    "## Creating a Sample DataFrame for Large Data Handling\n",
    "\n",
    "# Let's simulate a large DataFrame by repeating some sample data:\n",
    "\n",
    "# Create a large DataFrame by repeating the data\n",
    "data = {'Name': ['John', 'Anna', 'Peter', 'Linda'],\n",
    "        'Age': [28, 24, 35, 32],\n",
    "        'Score': [85, 90, 75, 88]}\n",
    "df_large = pd.DataFrame(data).sample(10000, replace=True).reset_index(drop=True)\n",
    "print(df_large.head())\n",
    "\n"
   ]
  },
  {
   "cell_type": "code",
   "execution_count": 31,
   "metadata": {},
   "outputs": [
    {
     "name": "stdout",
     "output_type": "stream",
     "text": [
      "Name     object\n",
      "Age        int8\n",
      "Score     int64\n",
      "dtype: object\n"
     ]
    }
   ],
   "source": [
    "## Optimizing Memory Usage\n",
    "\n",
    "# For large datasets, memory optimization can be achieved by changing data types to more efficient ones. For example, integers can be downcast to save memory.\n",
    "\n",
    "# Downcast integer columns to save memory\n",
    "df_large['Age'] = pd.to_numeric(df_large['Age'], downcast='integer')\n",
    "print(df_large.dtypes)\n"
   ]
  },
  {
   "cell_type": "code",
   "execution_count": 34,
   "metadata": {},
   "outputs": [
    {
     "name": "stdout",
     "output_type": "stream",
     "text": [
      "    Name  Age  Score\n",
      "0   John   28     85\n",
      "1  Linda   32     88\n",
      "2  Linda   32     88\n",
      "3   Anna   24     90\n",
      "4   Anna   24     90\n",
      "       Name  Age  Score\n",
      "1000   John   28     85\n",
      "1001   Anna   24     90\n",
      "1002   Anna   24     90\n",
      "1003  Linda   32     88\n",
      "1004  Peter   35     75\n",
      "       Name  Age  Score\n",
      "2000   Anna   24     90\n",
      "2001  Peter   35     75\n",
      "2002  Peter   35     75\n",
      "2003   John   28     85\n",
      "2004   Anna   24     90\n",
      "       Name  Age  Score\n",
      "3000  Peter   35     75\n",
      "3001  Peter   35     75\n",
      "3002   Anna   24     90\n",
      "3003   John   28     85\n",
      "3004   John   28     85\n",
      "       Name  Age  Score\n",
      "4000  Linda   32     88\n",
      "4001  Linda   32     88\n",
      "4002   Anna   24     90\n",
      "4003   John   28     85\n",
      "4004   John   28     85\n",
      "       Name  Age  Score\n",
      "5000   Anna   24     90\n",
      "5001  Peter   35     75\n",
      "5002   John   28     85\n",
      "5003  Peter   35     75\n",
      "5004   John   28     85\n",
      "       Name  Age  Score\n",
      "6000  Peter   35     75\n",
      "6001  Linda   32     88\n",
      "6002  Linda   32     88\n",
      "6003   John   28     85\n",
      "6004   Anna   24     90\n",
      "       Name  Age  Score\n",
      "7000   Anna   24     90\n",
      "7001   Anna   24     90\n",
      "7002   John   28     85\n",
      "7003  Linda   32     88\n",
      "7004  Linda   32     88\n",
      "       Name  Age  Score\n",
      "8000   John   28     85\n",
      "8001   John   28     85\n",
      "8002  Peter   35     75\n",
      "8003  Linda   32     88\n",
      "8004  Peter   35     75\n",
      "       Name  Age  Score\n",
      "9000  Peter   35     75\n",
      "9001  Linda   32     88\n",
      "9002  Peter   35     75\n",
      "9003  Linda   32     88\n",
      "9004  Linda   32     88\n"
     ]
    }
   ],
   "source": [
    "## Processing Data in Chunks\n",
    "\n",
    "# When working with very large datasets (e.g., reading from a file), you can process data in chunks using the `chunksize` parameter.\n",
    "\n",
    "# Example: Reading a CSV in chunks\n",
    "chunk_size = 1000\n",
    "for chunk in pd.read_csv('large_file.csv', chunksize=chunk_size):\n",
    "    # Process each chunk\n",
    "    print(chunk.head())\n"
   ]
  },
  {
   "cell_type": "code",
   "execution_count": 35,
   "metadata": {},
   "outputs": [
    {
     "name": "stdout",
     "output_type": "stream",
     "text": [
      "       Name  Age  Score\n",
      "6474  Peter   35     75\n",
      "5286   John   28     85\n",
      "502    Anna   24     90\n",
      "3137  Linda   32     88\n",
      "7045  Linda   32     88\n",
      "...     ...  ...    ...\n",
      "2667   Anna   24     90\n",
      "5213  Linda   32     88\n",
      "9555  Peter   35     75\n",
      "2392   Anna   24     90\n",
      "2915  Linda   32     88\n",
      "\n",
      "[500 rows x 3 columns]\n"
     ]
    }
   ],
   "source": [
    "## Sampling from Large DataFrames\n",
    "\n",
    "# You can randomly sample a subset of data for quick analysis instead of working on the entire dataset.\n",
    "\n",
    "# Sample 500 rows from the large DataFrame\n",
    "df_sample = df_large.sample(500)\n",
    "print(df_sample)\n"
   ]
  },
  {
   "cell_type": "markdown",
   "metadata": {},
   "source": [
    "## Parallel Processing with Dask or Modin\n",
    "\n",
    "For extremely large datasets, you can consider libraries like **Dask** or **Modin**, which allow parallel processing across multiple cores to scale beyond the limits of Pandas.\n",
    "\n",
    "Handling large DataFrames efficiently is key to working with big data, and Pandas offers useful techniques for optimizing memory and processing data in chunks."
   ]
  },
  {
   "cell_type": "markdown",
   "metadata": {},
   "source": [
    "# 13. Exporting Data\n",
    "\n",
    "Once you've processed or analyzed your data, it's often necessary to export it for further use or sharing. Pandas makes it easy to export DataFrames to various formats, such as CSV, Excel, and JSON.\n",
    "\n"
   ]
  },
  {
   "cell_type": "code",
   "execution_count": 36,
   "metadata": {},
   "outputs": [
    {
     "name": "stdout",
     "output_type": "stream",
     "text": [
      "    Name  Age  Score\n",
      "0   John   28     85\n",
      "1   Anna   24     90\n",
      "2  Peter   35     75\n",
      "3  Linda   32     88\n"
     ]
    }
   ],
   "source": [
    "## Creating a New DataFrame for Exporting\n",
    "\n",
    "# Let's create a sample DataFrame for exporting:\n",
    "\n",
    "# Create a sample DataFrame\n",
    "data = {'Name': ['John', 'Anna', 'Peter', 'Linda'],\n",
    "        'Age': [28, 24, 35, 32],\n",
    "        'Score': [85, 90, 75, 88]}\n",
    "df = pd.DataFrame(data)\n",
    "print(df)\n"
   ]
  },
  {
   "cell_type": "code",
   "execution_count": 37,
   "metadata": {},
   "outputs": [],
   "source": [
    "\n",
    "## Exporting to CSV\n",
    "\n",
    "# You can export your DataFrame to a CSV file using the `to_csv()` function.\n",
    "\n",
    "# Export the DataFrame to a CSV file\n",
    "df.to_csv('output.csv', index=False)\n"
   ]
  },
  {
   "cell_type": "code",
   "execution_count": 39,
   "metadata": {},
   "outputs": [
    {
     "name": "stdout",
     "output_type": "stream",
     "text": [
      "Collecting openpyxl\n",
      "  Downloading openpyxl-3.1.5-py2.py3-none-any.whl.metadata (2.5 kB)\n",
      "Collecting et-xmlfile (from openpyxl)\n",
      "  Downloading et_xmlfile-1.1.0-py3-none-any.whl.metadata (1.8 kB)\n",
      "Downloading openpyxl-3.1.5-py2.py3-none-any.whl (250 kB)\n",
      "\u001b[2K   \u001b[90m━━━━━━━━━━━━━━━━━━━━━━━━━━━━━━━━━━━━━━━━\u001b[0m \u001b[32m250.9/250.9 kB\u001b[0m \u001b[31m2.0 MB/s\u001b[0m eta \u001b[36m0:00:00\u001b[0ma \u001b[36m0:00:01\u001b[0m\n",
      "\u001b[?25hDownloading et_xmlfile-1.1.0-py3-none-any.whl (4.7 kB)\n",
      "Installing collected packages: et-xmlfile, openpyxl\n",
      "Successfully installed et-xmlfile-1.1.0 openpyxl-3.1.5\n",
      "\n",
      "\u001b[1m[\u001b[0m\u001b[34;49mnotice\u001b[0m\u001b[1;39;49m]\u001b[0m\u001b[39;49m A new release of pip is available: \u001b[0m\u001b[31;49m24.0\u001b[0m\u001b[39;49m -> \u001b[0m\u001b[32;49m24.2\u001b[0m\n",
      "\u001b[1m[\u001b[0m\u001b[34;49mnotice\u001b[0m\u001b[1;39;49m]\u001b[0m\u001b[39;49m To update, run: \u001b[0m\u001b[32;49mpip install --upgrade pip\u001b[0m\n"
     ]
    }
   ],
   "source": [
    "!pip install openpyxl"
   ]
  },
  {
   "cell_type": "code",
   "execution_count": 40,
   "metadata": {},
   "outputs": [],
   "source": [
    "\n",
    "## Exporting to Excel\n",
    "\n",
    "# To export the DataFrame to an Excel file, use the `to_excel()` function. This requires the `openpyxl` package for writing Excel files.\n",
    "\n",
    "# Export the DataFrame to an Excel file\n",
    "df.to_excel('output.xlsx', index=False)\n"
   ]
  },
  {
   "cell_type": "code",
   "execution_count": 41,
   "metadata": {},
   "outputs": [],
   "source": [
    "\n",
    "## Exporting to JSON\n",
    "\n",
    "# You can export a DataFrame to JSON format using `to_json()`.\n",
    "\n",
    "# Export the DataFrame to a JSON file\n",
    "df.to_json('output.json', orient='records')\n"
   ]
  },
  {
   "cell_type": "markdown",
   "metadata": {},
   "source": [
    "## Exporting to SQL\n",
    "\n",
    "If you're working with a database, you can export your DataFrame directly into a SQL table using `to_sql()`. This requires an SQLAlchemy connection.\n",
    "\n",
    "### Example for exporting to SQL (requires an active SQLAlchemy connection)\n",
    "### df.to_sql('table_name', con=connection, index=False)\n",
    "\n",
    "Exporting data ensures that your processed dataset can be easily shared or used in other applications."
   ]
  },
  {
   "cell_type": "markdown",
   "metadata": {},
   "source": [
    "# 14. Plotting with Pandas\n",
    "\n",
    "Pandas integrates with **Matplotlib**, allowing you to create simple plots directly from your DataFrame without needing to import Matplotlib explicitly. This makes it easy to visualize your data quickly.\n"
   ]
  },
  {
   "cell_type": "code",
   "execution_count": 42,
   "metadata": {},
   "outputs": [
    {
     "name": "stdout",
     "output_type": "stream",
     "text": [
      "    Name  Age  Score\n",
      "0   John   28     85\n",
      "1   Anna   24     90\n",
      "2  Peter   35     75\n",
      "3  Linda   32     88\n",
      "4   John   28     95\n",
      "5   Anna   24     90\n"
     ]
    }
   ],
   "source": [
    "## Creating a New DataFrame for Plotting\n",
    "\n",
    "# Let's create a sample DataFrame to use for plotting:\n",
    "\n",
    "# Create a sample DataFrame\n",
    "data = {'Name': ['John', 'Anna', 'Peter', 'Linda', 'John', 'Anna'],\n",
    "        'Age': [28, 24, 35, 32, 28, 24],\n",
    "        'Score': [85, 90, 75, 88, 95, 90]}\n",
    "df = pd.DataFrame(data)\n",
    "print(df)\n"
   ]
  },
  {
   "cell_type": "code",
   "execution_count": 44,
   "metadata": {},
   "outputs": [
    {
     "name": "stdout",
     "output_type": "stream",
     "text": [
      "Collecting matplotlib\n",
      "  Downloading matplotlib-3.9.2-cp312-cp312-manylinux_2_17_x86_64.manylinux2014_x86_64.whl.metadata (11 kB)\n",
      "Collecting contourpy>=1.0.1 (from matplotlib)\n",
      "  Downloading contourpy-1.3.0-cp312-cp312-manylinux_2_17_x86_64.manylinux2014_x86_64.whl.metadata (5.4 kB)\n",
      "Collecting cycler>=0.10 (from matplotlib)\n",
      "  Downloading cycler-0.12.1-py3-none-any.whl.metadata (3.8 kB)\n",
      "Collecting fonttools>=4.22.0 (from matplotlib)\n",
      "  Downloading fonttools-4.54.1-cp312-cp312-manylinux_2_5_x86_64.manylinux1_x86_64.manylinux_2_17_x86_64.manylinux2014_x86_64.whl.metadata (163 kB)\n",
      "\u001b[2K     \u001b[90m━━━━━━━━━━━━━━━━━━━━━━━━━━━━━━━━━━━━━━━\u001b[0m \u001b[32m163.7/163.7 kB\u001b[0m \u001b[31m1.1 MB/s\u001b[0m eta \u001b[36m0:00:00\u001b[0ma \u001b[36m0:00:01\u001b[0m\n",
      "\u001b[?25hCollecting kiwisolver>=1.3.1 (from matplotlib)\n",
      "  Downloading kiwisolver-1.4.7-cp312-cp312-manylinux_2_17_x86_64.manylinux2014_x86_64.whl.metadata (6.3 kB)\n",
      "Requirement already satisfied: numpy>=1.23 in /home/hijaz/.pyenv/versions/3.12.4/envs/conceptual-pyenv-env/lib/python3.12/site-packages (from matplotlib) (2.1.1)\n",
      "Requirement already satisfied: packaging>=20.0 in /home/hijaz/.pyenv/versions/3.12.4/envs/conceptual-pyenv-env/lib/python3.12/site-packages (from matplotlib) (24.1)\n",
      "Collecting pillow>=8 (from matplotlib)\n",
      "  Downloading pillow-10.4.0-cp312-cp312-manylinux_2_28_x86_64.whl.metadata (9.2 kB)\n",
      "Collecting pyparsing>=2.3.1 (from matplotlib)\n",
      "  Downloading pyparsing-3.1.4-py3-none-any.whl.metadata (5.1 kB)\n",
      "Requirement already satisfied: python-dateutil>=2.7 in /home/hijaz/.pyenv/versions/3.12.4/envs/conceptual-pyenv-env/lib/python3.12/site-packages (from matplotlib) (2.9.0.post0)\n",
      "Requirement already satisfied: six>=1.5 in /home/hijaz/.pyenv/versions/3.12.4/envs/conceptual-pyenv-env/lib/python3.12/site-packages (from python-dateutil>=2.7->matplotlib) (1.16.0)\n",
      "Downloading matplotlib-3.9.2-cp312-cp312-manylinux_2_17_x86_64.manylinux2014_x86_64.whl (8.3 MB)\n",
      "\u001b[2K   \u001b[90m━━━━━━━━━━━━━━━━━━━━━━━━━━━━━━━━━━━━━━━━\u001b[0m \u001b[32m8.3/8.3 MB\u001b[0m \u001b[31m2.3 MB/s\u001b[0m eta \u001b[36m0:00:00\u001b[0m00:01\u001b[0m00:01\u001b[0m\n",
      "\u001b[?25hDownloading contourpy-1.3.0-cp312-cp312-manylinux_2_17_x86_64.manylinux2014_x86_64.whl (320 kB)\n",
      "\u001b[2K   \u001b[90m━━━━━━━━━━━━━━━━━━━━━━━━━━━━━━━━━━━━━━━━\u001b[0m \u001b[32m320.5/320.5 kB\u001b[0m \u001b[31m2.9 MB/s\u001b[0m eta \u001b[36m0:00:00\u001b[0ma \u001b[36m0:00:01\u001b[0m\n",
      "\u001b[?25hDownloading cycler-0.12.1-py3-none-any.whl (8.3 kB)\n",
      "Downloading fonttools-4.54.1-cp312-cp312-manylinux_2_5_x86_64.manylinux1_x86_64.manylinux_2_17_x86_64.manylinux2014_x86_64.whl (4.9 MB)\n",
      "\u001b[2K   \u001b[90m━━━━━━━━━━━━━━━━━━━━━━━━━━━━━━━━━━━━━━━━\u001b[0m \u001b[32m4.9/4.9 MB\u001b[0m \u001b[31m2.3 MB/s\u001b[0m eta \u001b[36m0:00:00\u001b[0m00:01\u001b[0m00:01\u001b[0m\n",
      "\u001b[?25hDownloading kiwisolver-1.4.7-cp312-cp312-manylinux_2_17_x86_64.manylinux2014_x86_64.whl (1.5 MB)\n",
      "\u001b[2K   \u001b[90m━━━━━━━━━━━━━━━━━━━━━━━━━━━━━━━━━━━━━━━━\u001b[0m \u001b[32m1.5/1.5 MB\u001b[0m \u001b[31m2.4 MB/s\u001b[0m eta \u001b[36m0:00:00\u001b[0ma \u001b[36m0:00:01\u001b[0m\n",
      "\u001b[?25hDownloading pillow-10.4.0-cp312-cp312-manylinux_2_28_x86_64.whl (4.5 MB)\n",
      "\u001b[2K   \u001b[90m━━━━━━━━━━━━━━━━━━━━━━━━━━━━━━━━━━━━━━━━\u001b[0m \u001b[32m4.5/4.5 MB\u001b[0m \u001b[31m2.8 MB/s\u001b[0m eta \u001b[36m0:00:00\u001b[0m00:01\u001b[0m00:01\u001b[0m\n",
      "\u001b[?25hDownloading pyparsing-3.1.4-py3-none-any.whl (104 kB)\n",
      "\u001b[2K   \u001b[90m━━━━━━━━━━━━━━━━━━━━━━━━━━━━━━━━━━━━━━━━\u001b[0m \u001b[32m104.1/104.1 kB\u001b[0m \u001b[31m2.8 MB/s\u001b[0m eta \u001b[36m0:00:00\u001b[0m00:01\u001b[0m\n",
      "\u001b[?25hInstalling collected packages: pyparsing, pillow, kiwisolver, fonttools, cycler, contourpy, matplotlib\n",
      "Successfully installed contourpy-1.3.0 cycler-0.12.1 fonttools-4.54.1 kiwisolver-1.4.7 matplotlib-3.9.2 pillow-10.4.0 pyparsing-3.1.4\n",
      "\n",
      "\u001b[1m[\u001b[0m\u001b[34;49mnotice\u001b[0m\u001b[1;39;49m]\u001b[0m\u001b[39;49m A new release of pip is available: \u001b[0m\u001b[31;49m24.0\u001b[0m\u001b[39;49m -> \u001b[0m\u001b[32;49m24.2\u001b[0m\n",
      "\u001b[1m[\u001b[0m\u001b[34;49mnotice\u001b[0m\u001b[1;39;49m]\u001b[0m\u001b[39;49m To update, run: \u001b[0m\u001b[32;49mpip install --upgrade pip\u001b[0m\n"
     ]
    }
   ],
   "source": [
    "!pip install matplotlib"
   ]
  },
  {
   "cell_type": "code",
   "execution_count": 45,
   "metadata": {},
   "outputs": [
    {
     "data": {
      "text/plain": [
       "<Axes: xlabel='Age'>"
      ]
     },
     "execution_count": 45,
     "metadata": {},
     "output_type": "execute_result"
    },
    {
     "data": {
      "image/png": "[encoded data removed]",
      "text/plain": [
       "<Figure size 640x480 with 1 Axes>"
      ]
     },
     "metadata": {},
     "output_type": "display_data"
    }
   ],
   "source": [
    "\n",
    "## Plotting Line Graphs\n",
    "\n",
    "# You can create a simple line plot using `plot()`.\n",
    "\n",
    "# Create a line plot of Age vs. Score\n",
    "df.plot(x='Age', y='Score', kind='line')\n"
   ]
  },
  {
   "cell_type": "code",
   "execution_count": 46,
   "metadata": {},
   "outputs": [
    {
     "data": {
      "text/plain": [
       "<Axes: xlabel='Name'>"
      ]
     },
     "execution_count": 46,
     "metadata": {},
     "output_type": "execute_result"
    },
    {
     "data": {
      "image/png": "[encoded data removed]",
      "text/plain": [
       "<Figure size 640x480 with 1 Axes>"
      ]
     },
     "metadata": {},
     "output_type": "display_data"
    }
   ],
   "source": [
    "\n",
    "## Plotting Bar Graphs\n",
    "\n",
    "# Bar plots can be created by setting `kind='bar'`.\n",
    "\n",
    "# Create a bar plot of Name vs. Score\n",
    "df.plot(x='Name', y='Score', kind='bar')\n"
   ]
  },
  {
   "cell_type": "code",
   "execution_count": 47,
   "metadata": {},
   "outputs": [
    {
     "data": {
      "text/plain": [
       "<Axes: ylabel='Frequency'>"
      ]
     },
     "execution_count": 47,
     "metadata": {},
     "output_type": "execute_result"
    },
    {
     "data": {
      "image/png": "[encoded data removed]",
      "text/plain": [
       "<Figure size 640x480 with 1 Axes>"
      ]
     },
     "metadata": {},
     "output_type": "display_data"
    }
   ],
   "source": [
    "\n",
    "## Plotting Histograms\n",
    "\n",
    "# Histograms are useful for visualizing the distribution of numerical data.\n",
    "\n",
    "# Create a histogram of the 'Score' column\n",
    "df['Score'].plot(kind='hist', bins=5)\n"
   ]
  },
  {
   "cell_type": "code",
   "execution_count": 48,
   "metadata": {},
   "outputs": [
    {
     "data": {
      "text/plain": [
       "<Axes: xlabel='Age', ylabel='Score'>"
      ]
     },
     "execution_count": 48,
     "metadata": {},
     "output_type": "execute_result"
    },
    {
     "data": {
      "image/png": "[encoded data removed]",
      "text/plain": [
       "<Figure size 640x480 with 1 Axes>"
      ]
     },
     "metadata": {},
     "output_type": "display_data"
    }
   ],
   "source": [
    "\n",
    "## Plotting Scatter Plots\n",
    "\n",
    "# Scatter plots are useful for visualizing relationships between two numerical variables.\n",
    "\n",
    "# Create a scatter plot of Age vs. Score\n",
    "df.plot(kind='scatter', x='Age', y='Score')\n",
    "\n"
   ]
  },
  {
   "cell_type": "code",
   "execution_count": 49,
   "metadata": {},
   "outputs": [
    {
     "data": {
      "text/plain": [
       "<Axes: title={'center': 'Age vs. Score'}, xlabel='Age', ylabel='Score'>"
      ]
     },
     "execution_count": 49,
     "metadata": {},
     "output_type": "execute_result"
    },
    {
     "data": {
      "image/png": "[encoded data removed]",
      "text/plain": [
       "<Figure size 640x480 with 1 Axes>"
      ]
     },
     "metadata": {},
     "output_type": "display_data"
    }
   ],
   "source": [
    "## Customizing Plots\n",
    "\n",
    "# You can customize plots by passing additional arguments, such as `title`, `xlabel`, `ylabel`, and more.\n",
    "\n",
    "# Create a customized scatter plot with a title and axis labels\n",
    "df.plot(kind='scatter', x='Age', y='Score', title='Age vs. Score', xlabel='Age', ylabel='Score')\n",
    "\n",
    "# Plotting with Pandas is simple and effective for quick visualizations, and further customization can be done by integrating with Matplotlib.\n"
   ]
  }
 ],
 "metadata": {
  "kernelspec": {
   "display_name": "conceptual-pyenv-env",
   "language": "python",
   "name": "python3"
  },
  "language_info": {
   "codemirror_mode": {
    "name": "ipython",
    "version": 3
   },
   "file_extension": ".py",
   "mimetype": "text/x-python",
   "name": "python",
   "nbconvert_exporter": "python",
   "pygments_lexer": "ipython3",
   "version": "3.12.4"
  }
 },
 "nbformat": 4,
 "nbformat_minor": 2
}
